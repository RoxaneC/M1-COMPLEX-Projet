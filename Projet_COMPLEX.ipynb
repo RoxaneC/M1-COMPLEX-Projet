{
 "cells": [
  {
   "cell_type": "code",
   "execution_count": 1,
   "id": "d2375a18",
   "metadata": {},
   "outputs": [],
   "source": [
    "# EX 1\n",
    "\n",
    "import numpy as np\n",
    "import time\n",
    "import matplotlib.pyplot as plt"
   ]
  },
  {
   "cell_type": "code",
   "execution_count": 54,
   "id": "51e42921",
   "metadata": {},
   "outputs": [],
   "source": [
    "# 1.a\n",
    "\n",
    "def contraction(G, e):\n",
    "        \n",
    "    # récupération des indice des deux sommets à fusionner\n",
    "    x,y = e\n",
    "    \n",
    "    # on va \"désactiver\" le sommet y pour garder en x la fusion des deux\n",
    "    \n",
    "    # récupération du nombre d'arête entre y et chaque autre sommet\n",
    "    fus_l = G[y,:]\n",
    "\n",
    "\n",
    "    # on met à jour le sommet x\n",
    "    G[x,:] += fus_l\n",
    "    G[:,x] += fus_l\n",
    "    \n",
    "    G[x,x] = 0\n",
    "    \n",
    "    # on \"desactive\" le sommet y\n",
    "    G[y,:] = np.zeros(len(G))\n",
    "    G[:,y] = np.zeros(len(G))\n",
    "    \n",
    "    return G, y\n"
   ]
  },
  {
   "cell_type": "code",
   "execution_count": 92,
   "id": "8ce0fd87",
   "metadata": {},
   "outputs": [
    {
     "name": "stdout",
     "output_type": "stream",
     "text": [
      "0.0002669523000717163\n",
      "0.00025917439460754394\n"
     ]
    }
   ],
   "source": [
    "# 1.b\n",
    "\n",
    "G1 = np.array([[1,2,0,1],\n",
    "     [2,0,3,1],\n",
    "     [0,3,1,1],\n",
    "     [1,1,1,0]])\n",
    "\n",
    "e = [0,1]\n",
    "\n",
    "#plt.plot(100, log_tps , \"r\",)\n",
    "#plt.show()"
   ]
  },
  {
   "cell_type": "code",
   "execution_count": 4,
   "id": "23fdce66",
   "metadata": {},
   "outputs": [
    {
     "name": "stdout",
     "output_type": "stream",
     "text": [
      "1.190180778503418e-05\n",
      "1.002213954925537e-05\n"
     ]
    }
   ],
   "source": [
    "# graph complet\n",
    "tps_complet = []\n",
    "e = [0,1]\n",
    "\n",
    "for i in range(10000):\n",
    "    G = np.ones((500,500))\n",
    "    \n",
    "    debut = time.time()\n",
    "    G_c, y = contraction(G,e)\n",
    "    \n",
    "    fin = time.time()\n",
    "    tps_complet.append(fin-debut)\n",
    "    \n",
    "tps_complet_2 = []\n",
    "\n",
    "for i in range(10000):\n",
    "    G = np.ones((500,500))*2\n",
    "    \n",
    "    debut = time.time()\n",
    "    G_c, tps = contraction(G,e)\n",
    "    \n",
    "    fin = time.time()\n",
    "    tps_complet_2.append(fin-debut)\n",
    "\n",
    "print(np.mean(tps_complet))\n",
    "print(np.mean(tps_complet_2))"
   ]
  },
  {
   "cell_type": "code",
   "execution_count": 5,
   "id": "e22e6b49",
   "metadata": {},
   "outputs": [
    {
     "name": "stdout",
     "output_type": "stream",
     "text": [
      "1.0719966888427735e-05\n"
     ]
    }
   ],
   "source": [
    "tps_cycle = []\n",
    "\n",
    "for i in range(10000):\n",
    "    G = np.zeros((500,500))\n",
    "    np.fill_diagonal(G[:,1:], 1)\n",
    "    G[-1,0] = 1\n",
    "    \n",
    "    debut = time.time()\n",
    "    G_c, tps = contraction(G,e)\n",
    "    \n",
    "    fin = time.time()\n",
    "    tps_cycle.append(fin-debut)\n",
    "    \n",
    "print(np.mean(tps_cycle))\n"
   ]
  },
  {
   "cell_type": "code",
   "execution_count": 6,
   "id": "bb45a879",
   "metadata": {},
   "outputs": [
    {
     "name": "stdout",
     "output_type": "stream",
     "text": [
      "1.166231632232666e-05\n"
     ]
    }
   ],
   "source": [
    "tps_proba = []\n",
    "\n",
    "for i in range(10000):\n",
    "    G = np.random.randint(2, size = (500,500))\n",
    "    \n",
    "    debut = time.time()\n",
    "    G_c, tps = contraction(G,e)\n",
    "    \n",
    "    fin = time.time()\n",
    "    tps_proba.append(fin-debut)\n",
    "    \n",
    "print(np.mean(tps_proba))\n"
   ]
  },
  {
   "cell_type": "code",
   "execution_count": 66,
   "id": "625a50a6",
   "metadata": {},
   "outputs": [],
   "source": [
    "# 1.c\n",
    "\n",
    "def selectRandom(V,G):\n",
    "    \n",
    "    x = np.random.choice(V)\n",
    "    y = np.random.choice(V)\n",
    "    \n",
    "    while (G[x,y]==0):\n",
    "        x = np.random.choice(V)\n",
    "        y = np.random.choice(V)\n",
    "                \n",
    "    return x,y"
   ]
  },
  {
   "cell_type": "code",
   "execution_count": 74,
   "id": "541b587c",
   "metadata": {},
   "outputs": [],
   "source": [
    "def karger(G):\n",
    "    V = [*range(len(G))]\n",
    "    S = []\n",
    "    \n",
    "    while len(V) > 2:\n",
    "        e = selectRandom(V, G)\n",
    "        \n",
    "        G ,y = contraction(G,e)\n",
    "        \n",
    "        V.remove(y)\n",
    "        S.append(y)\n",
    "        \n",
    "    return S\n",
    "    "
   ]
  },
  {
   "cell_type": "code",
   "execution_count": 75,
   "id": "d88629d2",
   "metadata": {},
   "outputs": [
    {
     "name": "stdout",
     "output_type": "stream",
     "text": [
      "[[0 1 0 0 0 0]\n",
      " [1 0 1 0 1 0]\n",
      " [0 1 0 1 1 0]\n",
      " [0 0 1 0 0 1]\n",
      " [0 1 1 0 0 1]\n",
      " [0 0 0 1 1 0]]\n",
      "[0, 4, 3, 1]\n"
     ]
    }
   ],
   "source": [
    "G1 = np.array([[0,1,0,0,0,0],\n",
    "               [1,0,1,0,1,0],\n",
    "               [0,1,0,1,1,0],\n",
    "               [0,0,1,0,0,1],\n",
    "               [0,1,1,0,0,1],\n",
    "               [0,0,0,1,1,0]])\n",
    "\n",
    "print(G1)\n",
    "print(karger(G1))"
   ]
  },
  {
   "cell_type": "code",
   "execution_count": 81,
   "id": "851865ae",
   "metadata": {},
   "outputs": [
    {
     "name": "stdout",
     "output_type": "stream",
     "text": [
      "[{1, 2}]\n"
     ]
    }
   ],
   "source": [
    "# 1.e\n",
    "# Dictionnaire {\"Key :[sommet]\" : \"successeur :[(sommet, nb d'arêtes)]\"}\n",
    "\n",
    "#n1 = {[1], \"succ\": [{n2, 1}]}\n",
    "g = {'1' : [(2, 1)],\n",
    "    '2' : [(1,1), (3,1), (5,1)],\n",
    "    '3' : [(2,1), (4,1), (5,1)],\n",
    "    '4' : [(3,1), (6,1)],\n",
    "    '5' : [(2,1), (3,1), (6,1)],\n",
    "    '6' : [(4,1), (5,1)]}\n",
    "\n",
    "print(g['1'])\n",
    "\n"
   ]
  },
  {
   "cell_type": "code",
   "execution_count": null,
   "id": "84375505",
   "metadata": {},
   "outputs": [],
   "source": [
    "def contraction_2(G, e):\n",
    "        \n",
    "    # récupération des indice des deux sommets à fusionner\n",
    "    x,y = e\n",
    "        \n",
    "    # récupération du nombre d'arête entre y et chaque autre sommet\n",
    "    Gx = G[str(x)]\n",
    "    Gy = G[str(y)]\n",
    "\n",
    "    G_new = Gx\n",
    "    for elm in Gy:\n",
    "        if elm not in G_new:\n",
    "            G_new.append(elm)\n",
    "        else:\n",
    "            G_new[elm][1] +=1\n",
    "            \n",
    "    G_new.remove()\n",
    "\n",
    "    \n",
    "    return G, y"
   ]
  }
 ],
 "metadata": {
  "kernelspec": {
   "display_name": "Python 3 (ipykernel)",
   "language": "python",
   "name": "python3"
  },
  "language_info": {
   "codemirror_mode": {
    "name": "ipython",
    "version": 3
   },
   "file_extension": ".py",
   "mimetype": "text/x-python",
   "name": "python",
   "nbconvert_exporter": "python",
   "pygments_lexer": "ipython3",
   "version": "3.9.6"
  }
 },
 "nbformat": 4,
 "nbformat_minor": 5
}
