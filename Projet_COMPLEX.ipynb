{
 "cells": [
  {
   "cell_type": "markdown",
   "id": "cef0d180-239e-4433-92e7-00d43c659be7",
   "metadata": {},
   "source": [
    "# Exercice 1"
   ]
  },
  {
   "cell_type": "code",
   "execution_count": 12,
   "id": "bb20da73-f5d9-4743-8bff-a8f8b8680ae9",
   "metadata": {},
   "outputs": [],
   "source": [
    "import numpy as np\n",
    "from random import *\n",
    "import time\n",
    "import matplotlib.pyplot as plt\n",
    "import math"
   ]
  },
  {
   "cell_type": "markdown",
   "id": "7552ec91-639f-485b-8fd7-ecb7712826ac",
   "metadata": {},
   "source": [
    "## Question 1.a\n",
    "On va considérer des arrays 2D pour représenter la matrice d'adjacence. Ainsi pour un graph à N noeuds, la matrice d'adjacence sera de taille NxN, et chaque valeur à la coordonnée (x,y) représente le nombre d'arêtes entre les noeuds x et y. Les graphes étant non orientés; cette matrice est donc symétrique.\n",
    "Voici un éxemple de définition suivant cette structure :\n",
    "```\n",
    "                 # x1 x2 x3 x4 x5 x6\n",
    "                 \n",
    "Graph = np.array([[0, 1, 0, 0, 0, 0],     # y1\n",
    "                  [1, 0, 1, 0, 1, 0],     # y2\n",
    "                  [0, 1, 0, 1, 1, 0],     # y3\n",
    "                  [0, 0, 1, 0, 0, 1],     # y4\n",
    "                  [0, 1, 1, 0, 0, 1],     # y5\n",
    "                  [0, 0, 0, 1, 1, 0]])    # y6\n",
    "```\n",
    "\n",
    "Pour effectuer la constraction de deux sommets, on va considerer que l'on en isole un (par exmple y) et on ajoute tous les liens du noeud isolé au noeud restant (par exemple x)."
   ]
  },
  {
   "cell_type": "code",
   "execution_count": 2,
   "id": "51e42921",
   "metadata": {},
   "outputs": [],
   "source": [
    "def contraction(G, e):\n",
    "    # récupération des indice des deux sommets à fusionner\n",
    "    x,y = e\n",
    "        \n",
    "    # récupération du nombre d'arêtes entre y et chaque autre sommet\n",
    "    fus_l = G[y,:]\n",
    "\n",
    "    # on met à jour le sommet x en ajoutant les relations de y\n",
    "    G[x,:] += fus_l\n",
    "    G[:,x] += fus_l\n",
    "    \n",
    "    # on ne considère pas les arête auto-référentes\n",
    "    G[x,x] = 0\n",
    "    \n",
    "    # on \"isole\" le sommet y en mettant ses lignes et colonnes correspondantes à 0\n",
    "    G[y,:] = np.zeros(len(G))\n",
    "    G[:,y] = np.zeros(len(G))\n",
    "    \n",
    "    # on renvoie le nouveau graph ainsi que le sommet isolé\n",
    "    return G\n"
   ]
  },
  {
   "cell_type": "markdown",
   "id": "dbeaaf29-58be-4f08-9977-7d8262bc312e",
   "metadata": {},
   "source": [
    "## Question 1.b"
   ]
  },
  {
   "cell_type": "markdown",
   "id": "dd6f1d00-f52f-4321-a6a8-cf9f1e3efe57",
   "metadata": {},
   "source": [
    "### Graphes Complets"
   ]
  },
  {
   "cell_type": "code",
   "execution_count": 3,
   "id": "23fdce66",
   "metadata": {},
   "outputs": [],
   "source": [
    "tps_complet = []\n",
    "N = [100,150,200,250,500,1000,1500,2000]\n",
    "\n",
    "for n in N:\n",
    "    tps_N = []\n",
    "    # tirage aléatoire de 2 sommets à fusionner\n",
    "    # toutes les instances de graph pour ce n fusionnerons les deux mêmes sommets\n",
    "    e = (np.random.randint(n),np.random.randint(n))\n",
    "    \n",
    "    for i in range(1000):\n",
    "        # création de la matrice d'un graph complet de taille n\n",
    "        G = np.ones((n,n))\n",
    "        G = G - np.eye(n)\n",
    "        \n",
    "        # Calcul du temps d'execution\n",
    "        debut = time.time()\n",
    "        G = contraction(G,e)\n",
    "        fin = time.time()\n",
    "        \n",
    "        # stockage des temps d'exécution pour ce n\n",
    "        tps_N.append(fin-debut)\n",
    "    \n",
    "    # stockage de la moyenne des temps d'exécution pour chaque n\n",
    "    tps_complet.append(np.mean(tps_N))\n"
   ]
  },
  {
   "cell_type": "markdown",
   "id": "0d85a637-f17b-4ba3-88d0-12aabac7827d",
   "metadata": {},
   "source": [
    "### Graphes à Cycles"
   ]
  },
  {
   "cell_type": "code",
   "execution_count": 23,
   "id": "e22e6b49",
   "metadata": {},
   "outputs": [],
   "source": [
    "tps_cycle = []\n",
    "N = [100,150,200,250,500,1000,1500,2000]\n",
    "\n",
    "for n in N:\n",
    "    tps_N = []\n",
    "    # tirage aléatoire de 2 sommets à fusionner\n",
    "    # toutes les instances de graph pour ce n fusionnerons les deux mêmes sommets\n",
    "    e = (np.random.randint(n),np.random.randint(n))\n",
    "    \n",
    "    for i in range(1000):\n",
    "        # création de la matrice d'un graph à cycle de taille n\n",
    "        G = np.zeros((n,n))\n",
    "        np.fill_diagonal(G[:,1:], 1)\n",
    "        np.fill_diagonal(G[1:,:], 1)\n",
    "        G[-1,0] = 1\n",
    "        G[0,-1] = 1\n",
    "        \n",
    "        # Calcul du temps d'execution\n",
    "        debut = time.time()\n",
    "        G = contraction(G,e)\n",
    "        fin = time.time()\n",
    "        \n",
    "        # stockage des temps d'exécution pour ce n\n",
    "        tps_N.append(fin-debut)\n",
    "    \n",
    "    # stockage de la moyenne des temps d'exécution pour chaque n\n",
    "    tps_cycle.append(np.mean(tps_N))\n"
   ]
  },
  {
   "cell_type": "markdown",
   "id": "3d467613-0201-4d8c-85fc-6d6da6188ec5",
   "metadata": {},
   "source": [
    "### Graphes construits par Proba"
   ]
  },
  {
   "cell_type": "code",
   "execution_count": 5,
   "id": "bb45a879",
   "metadata": {},
   "outputs": [],
   "source": [
    "tps_proba = []\n",
    "N = [100,150,200,250,500,1000,1500,2000]\n",
    "\n",
    "for n in N:\n",
    "    tps_N = []\n",
    "    # tirage aléatoire de 2 sommets à fusionner\n",
    "    # toutes les instances de graph pour ce n fusionnerons les deux mêmes sommets\n",
    "    e = (np.random.randint(n),np.random.randint(n))\n",
    "    \n",
    "    for i in range(1000):\n",
    "        # création de la matrice du graph aléatoire\n",
    "        G = np.random.randint(2, size = (n,n))\n",
    "        \n",
    "        # Calcul du temps d'execution\n",
    "        debut = time.time()\n",
    "        G = contraction(G,e)\n",
    "        fin = time.time()\n",
    "        \n",
    "        # stockage des temps d'exécution pour ce n\n",
    "        tps_N.append(fin-debut)\n",
    "    \n",
    "    # stockage de la moyenne des temps d'exécution pour chaque n\n",
    "    tps_proba.append(np.mean(tps_N))\n"
   ]
  },
  {
   "cell_type": "code",
   "execution_count": 24,
   "id": "2f852fc5-83ec-47e4-b2c6-7f59c28d6725",
   "metadata": {},
   "outputs": [
    {
     "data": {
      "image/png": "[encoded data removed]",
      "text/plain": [
       "<Figure size 640x480 with 1 Axes>"
      ]
     },
     "metadata": {},
     "output_type": "display_data"
    }
   ],
   "source": [
    "# Visualisation plus pratique\n",
    "plt.figure()\n",
    "plt.title('Log Complexité (contraction)')\n",
    "plt.xlabel('nombre de sommets du graph (log)')\n",
    "plt.ylabel('Tps d\\'exécution en seconde (log)')\n",
    "plt.plot(np.log(N[1:]), np.log(tps_complet[1:]), label='Graph complet')\n",
    "plt.plot(np.log(N[1:]), np.log(tps_cycle[1:]), label='Graph à cycle')\n",
    "plt.plot(np.log(N[1:]), np.log(tps_proba[1:]), label='Graph à proba')\n",
    "plt.legend()\n",
    "plt.show()"
   ]
  },
  {
   "cell_type": "code",
   "execution_count": null,
   "id": "c9be93ab-a5dd-4561-85ea-8b197870a2ef",
   "metadata": {},
   "outputs": [],
   "source": [
    "# ANALYSE"
   ]
  },
  {
   "cell_type": "markdown",
   "id": "233870ca-88c9-4225-9da7-c07fae9537d8",
   "metadata": {},
   "source": [
    "## Question 1.c\n",
    "\n",
    "Nous cherchons tirer aléatoirement une arête parmi toutes celles existance dans notre graphe. Une idée pour nous permettre de le faire serait de définir les probabilités de tirer un sommet précis en connaissant le nombre d'arête relié à chacun. Nous pourrions ainsi pondérer la probabilité de tirer un couple de sommet.\n",
    "\n",
    "Nous allons pour cela sommer sur les lignes (ou les colonnes) les valeurs de la matrice d'adjacence. Nous avons ainsi un vecteur stockant le nombre d'arêtes partant de chaque sommet. Pour obtenir une probabilité, nous devons normaliser en divisant par la somme du nombre d'arêtes, divisée par deux (graph non orienté).\n",
    "\n",
    "Le graphe étant non orienté et la matrice d'adjacence étant symétrique, l'axe sur lequel nous effectuons l'opération n'a pas de réelle importance."
   ]
  },
  {
   "cell_type": "code",
   "execution_count": 26,
   "id": "625a50a6",
   "metadata": {},
   "outputs": [],
   "source": [
    "def selectRandom(G):\n",
    "    n = len(G)\n",
    "    # calcul de la proba de choisir un arc relié à un certain sommet\n",
    "    proba = ( np.sum(G, axis = 0)/(np.sum(G)) )\n",
    "    \n",
    "    # tirage aléatoire du premier sommet\n",
    "    x = np.random.choice(n, p=proba)\n",
    "    # tirage du second sommet parmi les possibilités depuis le premier sommet\n",
    "    y = np.random.choice(n, p=G[x]/np.sum(G[x]))\n",
    "                \n",
    "    return x,y"
   ]
  },
  {
   "cell_type": "code",
   "execution_count": 27,
   "id": "541b587c",
   "metadata": {},
   "outputs": [],
   "source": [
    "def karger(G):\n",
    "    V = [*range(len(G))]\n",
    "    v1 = set()\n",
    "    v2 = set()\n",
    "\n",
    "    # première itération pout initialiser v1\n",
    "    x,y = selectRandom(G)\n",
    "    G = contraction(G, (x,y))\n",
    "    v1.update([x,y])\n",
    "    V.remove(y)\n",
    "\n",
    "    # boucle\n",
    "    while len(V) > 2:\n",
    "        x,y = selectRandom(G)\n",
    "        \n",
    "        G = contraction(G, (x,y))\n",
    "        \n",
    "        if (x in v1) or (y in v1):\n",
    "            v1.update([x])\n",
    "            v1.update([y])\n",
    "        else:\n",
    "            v2.update([x])\n",
    "            v2.update([y])\n",
    "\n",
    "        V.remove(y)\n",
    "\n",
    "    # placement des deux noeuds restants\n",
    "    if V[0] in v1:\n",
    "        v2.update([V[1]])\n",
    "    else:\n",
    "        v2.update([V[0]])\n",
    "        \n",
    "    return v1, v2\n"
   ]
  },
  {
   "cell_type": "code",
   "execution_count": 28,
   "id": "d88629d2",
   "metadata": {},
   "outputs": [
    {
     "name": "stdout",
     "output_type": "stream",
     "text": [
      "[[0 1 0 0 0 0]\n",
      " [1 0 1 0 1 0]\n",
      " [0 1 0 1 1 0]\n",
      " [0 0 1 0 0 1]\n",
      " [0 1 1 0 0 1]\n",
      " [0 0 0 1 1 0]]\n",
      "({1, 2, 4, 5}, {0, 3, 5})\n"
     ]
    }
   ],
   "source": [
    "G1 = np.array([[0,1,0,0,0,0],\n",
    "               [1,0,1,0,1,0],\n",
    "               [0,1,0,1,1,0],\n",
    "               [0,0,1,0,0,1],\n",
    "               [0,1,1,0,0,1],\n",
    "               [0,0,0,1,1,0]])\n",
    "\n",
    "print(G1)\n",
    "print(karger(G1))\n"
   ]
  },
  {
   "cell_type": "markdown",
   "id": "112ccddf-4d0c-4fef-98ce-cdf4adb9cdfe",
   "metadata": {},
   "source": [
    "## Question 1.d"
   ]
  },
  {
   "cell_type": "markdown",
   "id": "95374c84-3353-4609-8358-c511eb4b7844",
   "metadata": {},
   "source": [
    "### Graphes Complets"
   ]
  },
  {
   "cell_type": "code",
   "execution_count": 29,
   "id": "851865ae",
   "metadata": {},
   "outputs": [],
   "source": [
    "tps_complet_karger = []\n",
    "N = [100,150,200,250,500,1000]\n",
    "\n",
    "for n in N:\n",
    "    tps_N = []\n",
    "    \n",
    "    for i in range(100):\n",
    "        # création de la matrice d'un graph complet de taille n\n",
    "        G = np.ones((n,n))\n",
    "        G = G - np.eye(n)\n",
    "        \n",
    "        # Calcul du temps d'execution\n",
    "        debut = time.time()\n",
    "        S,V = karger(G)\n",
    "        fin = time.time()\n",
    "        \n",
    "        # stockage des temps d'exécution pour ce n\n",
    "        tps_N.append(fin-debut)\n",
    "    \n",
    "    # stockage de la moyenne des temps d'exécution pour chaque n\n",
    "    tps_complet_karger.append(np.mean(tps_N))\n"
   ]
  },
  {
   "cell_type": "markdown",
   "id": "33348f3f-f685-4c48-8135-229a8ddfacd2",
   "metadata": {},
   "source": [
    "### Graphes à Cycles"
   ]
  },
  {
   "cell_type": "code",
   "execution_count": 30,
   "id": "84375505",
   "metadata": {},
   "outputs": [
    {
     "name": "stdout",
     "output_type": "stream",
     "text": [
      "100\n",
      "150\n",
      "200\n",
      "250\n",
      "500\n",
      "1000\n"
     ]
    }
   ],
   "source": [
    "tps_cycle_karger = []\n",
    "N = [100,150,200,250,500,1000]\n",
    "\n",
    "for n in N:\n",
    "    tps_N = []\n",
    "    \n",
    "    for i in range(100):\n",
    "        # création de la matrice d'un graph à cycle de taille n\n",
    "        G = np.zeros((n,n))\n",
    "        np.fill_diagonal(G[:,1:], 1)\n",
    "        np.fill_diagonal(G[1:,:], 1)\n",
    "        G[-1,0] = 1\n",
    "        G[0,-1] = 1\n",
    "        \n",
    "        # Calcul du temps d'execution\n",
    "        debut = time.time()\n",
    "        S,V = karger(G)\n",
    "        fin = time.time()\n",
    "        \n",
    "        # stockage des temps d'exécution pour ce n\n",
    "        tps_N.append(fin-debut)\n",
    "    \n",
    "    print(n)\n",
    "    # stockage de la moyenne des temps d'exécution pour chaque n\n",
    "    tps_cycle_karger.append(np.mean(tps_N))\n"
   ]
  },
  {
   "cell_type": "markdown",
   "id": "e8761af0-19ec-4fb6-a227-48b1e37c7b92",
   "metadata": {},
   "source": [
    "### Graphes Proba"
   ]
  },
  {
   "cell_type": "code",
   "execution_count": 31,
   "id": "507faeb8-8f33-441d-8869-1c185442fb15",
   "metadata": {},
   "outputs": [],
   "source": [
    "tps_proba_karger = []\n",
    "N = [100,150,200,250,500,1000]\n",
    "\n",
    "for n in N:\n",
    "    tps_N = []\n",
    "    \n",
    "    for i in range(100):\n",
    "        # création de la matrice du graph aléatoire\n",
    "        G = np.random.randint(2, size = (n,n))\n",
    "        \n",
    "        # Calcul du temps d'execution\n",
    "        debut = time.time()\n",
    "        S,V = karger(G)\n",
    "        fin = time.time()\n",
    "        \n",
    "        # stockage des temps d'exécution pour ce n\n",
    "        tps_N.append(fin-debut)\n",
    "    \n",
    "    # stockage de la moyenne des temps d'exécution pour chaque n\n",
    "    tps_proba_karger.append(np.mean(tps_N))\n"
   ]
  },
  {
   "cell_type": "code",
   "execution_count": 32,
   "id": "abfc596a-fb3b-4f51-822d-7cfd0b2f8616",
   "metadata": {},
   "outputs": [
    {
     "data": {
      "image/png": "[encoded data removed]",
      "text/plain": [
       "<Figure size 640x480 with 1 Axes>"
      ]
     },
     "metadata": {},
     "output_type": "display_data"
    }
   ],
   "source": [
    "# Visualisation plus pratique\n",
    "plt.figure()\n",
    "plt.title('Log complexité de Karger')\n",
    "plt.xlabel('nombre de sommets du graph (log)')\n",
    "plt.ylabel('Tps d\\'exécution en seconde (log)')\n",
    "plt.plot(np.log(N), np.log(tps_complet_karger), label='Graph complet')\n",
    "plt.plot(np.log(N), np.log(tps_cycle_karger), label='Graph à cycle')\n",
    "plt.plot(np.log(N), np.log(tps_proba_karger), label='Graph à proba')\n",
    "plt.legend()\n",
    "plt.show()"
   ]
  },
  {
   "cell_type": "code",
   "execution_count": null,
   "id": "a4dbc500-ffb0-4be2-8639-20ef3aeb2656",
   "metadata": {},
   "outputs": [],
   "source": []
  },
  {
   "cell_type": "markdown",
   "id": "ce65222d-9ffc-40ac-b2d8-c55f440b3312",
   "metadata": {},
   "source": [
    "## Question 1.e"
   ]
  },
  {
   "cell_type": "code",
   "execution_count": 33,
   "id": "76c64ab6-d1e6-46dc-b6b3-0e8e241a1d17",
   "metadata": {},
   "outputs": [],
   "source": [
    "def contraction2(g, arete):\n",
    "    i, j = arete  #les deux sommets de l'arête \n",
    "    noeud = i + \",\" + j #le nouveau sommet\n",
    "    g[noeud] = [] #la liste des successeur du sommet \n",
    "    #O(n)\n",
    "    for elm in g[i]:\n",
    "        if elm not in i.split(',') and elm not in j.split(','):\n",
    "            g[noeud].append(elm)\n",
    "    #O(n)\n",
    "    for elm in g[j]:\n",
    "        if elm not in i.split(',') and elm not in j.split(','):\n",
    "            g[noeud].append(elm)\n",
    "    \n",
    "    del g[i] \n",
    "    del g[j]\n",
    "    return g"
   ]
  },
  {
   "cell_type": "markdown",
   "id": "a6d2b654-104d-4293-ae73-44c234cea84e",
   "metadata": {},
   "source": [
    "## Question 1.f"
   ]
  },
  {
   "cell_type": "code",
   "execution_count": 34,
   "id": "a750f060-9369-465f-ad9d-12bb1f565b31",
   "metadata": {},
   "outputs": [],
   "source": [
    "#Chaque sommet existe dans le dictionnaire exactement le nombre de fois ou elle est relier par une arête \n",
    "##On construit une liste qui est la concatination de toutes les liste du dictionaire on note LISTE\n",
    "####Sa complexiter est O(n) \n",
    "## 1 - on tire un sommet aléatoir dans la liste LIST on note S \n",
    "#  2 - on tire un autre sommet aléatoir de la liste du sommet S \n",
    "def randomSommet(g):\n",
    "    liste = []\n",
    "    #O(n)\n",
    "    for elm in g.keys():\n",
    "        liste += list(g[elm])\n",
    "    \n",
    "    i = randint(0, len(liste)-1)\n",
    "    s1 = liste[i]\n",
    "    s2 = -1\n",
    "    if s1 in g:\n",
    "        i = randint(0, len(g[s1])-1)\n",
    "        s2 = g[s1][i]\n",
    "    else:\n",
    "        l = list(g.keys())\n",
    "        #O(n)\n",
    "        for elm in l:\n",
    "            e = elm.split(',')\n",
    "            if s1 in e:\n",
    "                i = randint(0, len(g[elm]) - 1)\n",
    "                s1 = elm\n",
    "                s2 = g[elm][i]\n",
    "                break\n",
    "    \n",
    "    l = list(g.keys())    \n",
    "    if s2 not in g:\n",
    "        #O(n)\n",
    "        for elm in l:\n",
    "            e = elm.split(',')\n",
    "            if s2 in e:\n",
    "                s2 = elm\n",
    "                break\n",
    "    return (s1, s2)"
   ]
  },
  {
   "cell_type": "markdown",
   "id": "26958b33-fd49-494f-a46d-2da32511f93d",
   "metadata": {},
   "source": [
    "## Question 1.g"
   ]
  },
  {
   "cell_type": "code",
   "execution_count": 38,
   "id": "1ce69143-0aee-49ff-808f-a65c102895cf",
   "metadata": {},
   "outputs": [],
   "source": [
    "def karger2(g):\n",
    "    while len(g.keys()) > 2:\n",
    "        arete = randomSommet(g)\n",
    "        g = contraction2(g, arete) \n",
    "    return g\n",
    "\n",
    "# Analyse"
   ]
  },
  {
   "cell_type": "markdown",
   "id": "27d93ad3-acbf-4546-b19f-ab71a769aba5",
   "metadata": {},
   "source": [
    "## Question 1.h"
   ]
  },
  {
   "cell_type": "markdown",
   "id": "902d221d-d69d-4be9-96c2-12868fab8df4",
   "metadata": {},
   "source": [
    "### Graphes Complets"
   ]
  },
  {
   "cell_type": "code",
   "execution_count": 39,
   "id": "ed326203-374b-4924-ae34-7b71d26863cf",
   "metadata": {},
   "outputs": [
    {
     "ename": "KeyboardInterrupt",
     "evalue": "",
     "output_type": "error",
     "traceback": [
      "\u001b[0;31m---------------------------------------------------------------------------\u001b[0m",
      "\u001b[0;31mKeyboardInterrupt\u001b[0m                         Traceback (most recent call last)",
      "Cell \u001b[0;32mIn [39], line 32\u001b[0m\n\u001b[1;32m     30\u001b[0m \u001b[39m# Calcul du temps d'execution\u001b[39;00m\n\u001b[1;32m     31\u001b[0m debut \u001b[39m=\u001b[39m time\u001b[39m.\u001b[39mtime()\n\u001b[0;32m---> 32\u001b[0m g \u001b[39m=\u001b[39m karger2(G)\n\u001b[1;32m     33\u001b[0m fin \u001b[39m=\u001b[39m time\u001b[39m.\u001b[39mtime()\n\u001b[1;32m     35\u001b[0m \u001b[39m# stockage des temps d'exécution pour ce n\u001b[39;00m\n",
      "Cell \u001b[0;32mIn [38], line 4\u001b[0m, in \u001b[0;36mkarger2\u001b[0;34m(g)\u001b[0m\n\u001b[1;32m      2\u001b[0m \u001b[39mwhile\u001b[39;00m \u001b[39mlen\u001b[39m(g\u001b[39m.\u001b[39mkeys()) \u001b[39m>\u001b[39m \u001b[39m2\u001b[39m:\n\u001b[1;32m      3\u001b[0m     arete \u001b[39m=\u001b[39m randomSommet(g)\n\u001b[0;32m----> 4\u001b[0m     g \u001b[39m=\u001b[39m contraction2(g, arete) \n\u001b[1;32m      5\u001b[0m \u001b[39mreturn\u001b[39;00m g\n",
      "Cell \u001b[0;32mIn [33], line 11\u001b[0m, in \u001b[0;36mcontraction2\u001b[0;34m(g, arete)\u001b[0m\n\u001b[1;32m      9\u001b[0m \u001b[39m#O(n)\u001b[39;00m\n\u001b[1;32m     10\u001b[0m \u001b[39mfor\u001b[39;00m elm \u001b[39min\u001b[39;00m g[j]:\n\u001b[0;32m---> 11\u001b[0m     \u001b[39mif\u001b[39;00m elm \u001b[39mnot\u001b[39;00m \u001b[39min\u001b[39;00m i\u001b[39m.\u001b[39msplit(\u001b[39m'\u001b[39m\u001b[39m,\u001b[39m\u001b[39m'\u001b[39m) \u001b[39mand\u001b[39;00m elm \u001b[39mnot\u001b[39;00m \u001b[39min\u001b[39;00m j\u001b[39m.\u001b[39;49msplit(\u001b[39m'\u001b[39m\u001b[39m,\u001b[39m\u001b[39m'\u001b[39m):\n\u001b[1;32m     12\u001b[0m         g[noeud]\u001b[39m.\u001b[39mappend(elm)\n\u001b[1;32m     14\u001b[0m \u001b[39mdel\u001b[39;00m g[i] \n",
      "\u001b[0;31mKeyboardInterrupt\u001b[0m: "
     ]
    }
   ],
   "source": [
    "#grapheComplet\n",
    "def grapheComplet(taille):\n",
    "    g = dict()\n",
    "    #la liste de tous les sommets \n",
    "    liste = []\n",
    "    i = 1\n",
    "    while i <= taille:\n",
    "        liste.append(str(i))\n",
    "        i += 1\n",
    "    \n",
    "    i = 1\n",
    "    while i <= taille:\n",
    "        liste1 = liste.copy()\n",
    "        liste1.remove(str(i))\n",
    "        g[str(i)] = liste1 \n",
    "        i += 1\n",
    "    return g\n",
    "\n",
    "# test\n",
    "tps_complet_karger2 = []\n",
    "N = [10,20,50,100,250,500,1000]\n",
    "\n",
    "for n in N:\n",
    "    tps_N = []\n",
    "    \n",
    "    for i in range(100):\n",
    "        # création de la matrice d'un graph complet de taille n\n",
    "        G = grapheComplet(n)\n",
    "        \n",
    "        # Calcul du temps d'execution\n",
    "        debut = time.time()\n",
    "        g = karger2(G)\n",
    "        fin = time.time()\n",
    "        \n",
    "        # stockage des temps d'exécution pour ce n\n",
    "        tps_N.append(fin-debut)\n",
    "    \n",
    "    # stockage de la moyenne des temps d'exécution pour chaque n\n",
    "    tps_complet_karger2.append(np.mean(tps_N))\n"
   ]
  },
  {
   "cell_type": "markdown",
   "id": "edc7bca5-fb75-40c8-bc32-b3e66579e112",
   "metadata": {},
   "source": [
    "### Graphes à Cycles"
   ]
  },
  {
   "cell_type": "code",
   "execution_count": null,
   "id": "9c133d4b-9b10-4445-88bb-1904f816441a",
   "metadata": {},
   "outputs": [],
   "source": [
    "#Graphe avec cycle\n",
    "def grapheCycle(taille):\n",
    "    g = dict()\n",
    "    i = 1 \n",
    "    while i < taille:\n",
    "        g[str(i)] = [str(i+1)]\n",
    "        i += 1\n",
    "    g[str(taille)] = [str(1)]\n",
    "    i = taille\n",
    "    while i > 1:\n",
    "        g[str(i)].append(str(i-1))\n",
    "        i -= 1\n",
    "    g['1'].append(str(taille))\n",
    "    return g\n",
    "\n",
    "tps_cycle_karger2 = []\n",
    "N = [10,20,50,100,250,500,1000]\n",
    "\n",
    "for n in N:\n",
    "    tps_N = []\n",
    "    \n",
    "    for i in range(100):\n",
    "        # création de la matrice d'un graph complet de taille n\n",
    "        G = grapheCycle(n)\n",
    "        \n",
    "        # Calcul du temps d'execution\n",
    "        debut = time.time()\n",
    "        g = karger2(G)\n",
    "        fin = time.time()\n",
    "        \n",
    "        # stockage des temps d'exécution pour ce n\n",
    "        tps_N.append(fin-debut)\n",
    "    \n",
    "    # stockage de la moyenne des temps d'exécution pour chaque n\n",
    "    tps_cycle_karger2.append(np.mean(tps_N))"
   ]
  },
  {
   "cell_type": "markdown",
   "id": "00c45d86-4c93-4392-a6a0-07f7ee370011",
   "metadata": {},
   "source": [
    "### Graphes Bipartie Complets"
   ]
  },
  {
   "cell_type": "code",
   "execution_count": null,
   "id": "de9e599a-d673-4982-925d-4d7a93b14c08",
   "metadata": {},
   "outputs": [],
   "source": [
    "#Graphe bipartie complet\n",
    "def grapheBipartieComplet(taille): #taille doit être multiple de 2 sinon on prend taille+1 ; E1 = {sommet1, ..., sommetTaille/2}\n",
    "                            #et E1 = {sommet_Taille/2+1, ..., sommetTaille}\n",
    "    g = dict()\n",
    "    \n",
    "    if(taille %2 != 0):\n",
    "        taille += 1\n",
    "    listeSommetE1 = []\n",
    "    i = 1\n",
    "    while i <= taille/2:\n",
    "        listeSommetE1.append(str(i))\n",
    "        i += 1\n",
    "    listeSommetE2 = []\n",
    "    while i <= taille:\n",
    "        listeSommetE2.append(str(i))\n",
    "        i += 1\n",
    "    \n",
    "    i = 1\n",
    "    while i <= taille/2:\n",
    "        g[str(i)] = listeSommetE2\n",
    "        i += 1\n",
    "    while i <= taille:\n",
    "        g[str(i)] = listeSommetE1\n",
    "        i += 1\n",
    "    return g\n",
    "\n",
    "tps_biparti_karger2 = []\n",
    "N = [10,20,50,100,250,500,1000]\n",
    "\n",
    "for n in N:\n",
    "    tps_N = []\n",
    "    \n",
    "    for i in range(100):\n",
    "        # création de la matrice d'un graph complet de taille n\n",
    "        G = grapheBipartieComplet(n)\n",
    "        \n",
    "        # Calcul du temps d'execution\n",
    "        debut = time.time()\n",
    "        g = karger2(G)\n",
    "        fin = time.time()\n",
    "        \n",
    "        # stockage des temps d'exécution pour ce n\n",
    "        tps_N.append(fin-debut)\n",
    "    \n",
    "    # stockage de la moyenne des temps d'exécution pour chaque n\n",
    "    tps_biparti_karger2.append(np.mean(tps_N))"
   ]
  },
  {
   "cell_type": "markdown",
   "id": "bf344288-e95b-44f5-81f1-7e5dde47d2db",
   "metadata": {},
   "source": [
    "### Graphes Aléatoires"
   ]
  },
  {
   "cell_type": "code",
   "execution_count": null,
   "id": "d0ddd7a9-1805-4ac2-ab2d-3e628e36bf01",
   "metadata": {},
   "outputs": [],
   "source": [
    "#graphe aleatoire \n",
    "def grapheAleatoire(taille):\n",
    "    g = dict()\n",
    "    i = 1\n",
    "    while i < taille:\n",
    "        if str(i) not in list(g.keys()):\n",
    "            g[str(i)] = []\n",
    "        j = i + 1\n",
    "        while j <= taille:\n",
    "            if randint(0,1) == 1:\n",
    "                g[str(i)].append(str(j))\n",
    "                if str(j) not in list(g.keys()):\n",
    "                    g[str(j)] = []\n",
    "                g[str(j)].append(str(i))\n",
    "                    \n",
    "                \n",
    "            j += 1\n",
    "        i += 1\n",
    "        \n",
    "    return g\n",
    "\n",
    "tps_alea_karger2 = []\n",
    "N = [10,20,50,100,250,500,1000]\n",
    "\n",
    "for n in N:\n",
    "    tps_N = []\n",
    "    \n",
    "    for i in range(100):\n",
    "        # création de la matrice d'un graph complet de taille n\n",
    "        G = grapheAleatoire(n)\n",
    "        \n",
    "        # Calcul du temps d'execution\n",
    "        debut = time.time()\n",
    "        g = karger2(G)\n",
    "        fin = time.time()\n",
    "        \n",
    "        # stockage des temps d'exécution pour ce n\n",
    "        tps_N.append(fin-debut)\n",
    "    \n",
    "    # stockage de la moyenne des temps d'exécution pour chaque n\n",
    "    tps_alea_karger2.append(np.mean(tps_N))"
   ]
  },
  {
   "cell_type": "code",
   "execution_count": null,
   "id": "b46e03e6-8952-4601-b79e-ce2b9195528a",
   "metadata": {},
   "outputs": [],
   "source": [
    "# Visualisation plus pratique\n",
    "plt.figure()\n",
    "plt.title('Log complexité de Karger')\n",
    "plt.xlabel('nombre de sommets du graph (log)')\n",
    "plt.ylabel('Tps d\\'exécution en seconde (log)')\n",
    "plt.plot(np.log(N), np.log(tps_complet_karger2), label='Graph complet')\n",
    "plt.plot(np.log(N), np.log(tps_cycle_karger2), label='Graph à cycle')\n",
    "plt.plot(np.log(N), np.log(tps_biparti_karger2), label='Graph à cycle')\n",
    "plt.plot(np.log(N), np.log(tps_alea_karger2), label='Graph à proba')\n",
    "plt.legend()\n",
    "plt.show()"
   ]
  }
 ],
 "metadata": {
  "kernelspec": {
   "display_name": "Python 3.9.15 64-bit",
   "language": "python",
   "name": "python3"
  },
  "language_info": {
   "codemirror_mode": {
    "name": "ipython",
    "version": 3
   },
   "file_extension": ".py",
   "mimetype": "text/x-python",
   "name": "python",
   "nbconvert_exporter": "python",
   "pygments_lexer": "ipython3",
   "version": "3.9.15"
  },
  "vscode": {
   "interpreter": {
    "hash": "36cf16204b8548560b1c020c4e8fb5b57f0e4c58016f52f2d4be01e192833930"
   }
  }
 },
 "nbformat": 4,
 "nbformat_minor": 5
}
