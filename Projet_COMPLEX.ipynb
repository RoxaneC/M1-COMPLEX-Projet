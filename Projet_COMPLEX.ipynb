{
 "cells": [
  {
   "cell_type": "markdown",
   "id": "cef0d180-239e-4433-92e7-00d43c659be7",
   "metadata": {},
   "source": [
    "# Exercice 1"
   ]
  },
  {
   "cell_type": "code",
   "execution_count": null,
   "id": "bb20da73-f5d9-4743-8bff-a8f8b8680ae9",
   "metadata": {},
   "outputs": [],
   "source": [
    "import numpy as np\n",
    "import time\n",
    "import matplotlib.pyplot as plt"
   ]
  },
  {
   "cell_type": "markdown",
   "id": "7552ec91-639f-485b-8fd7-ecb7712826ac",
   "metadata": {},
   "source": [
    "## Question 1.a\n",
    "On va considérer des arrays 2D pour représenter la matrice d'adjacence. Ainsi pour un graph à N noeuds, la matrice d'adjacence sera de taille NxN, et chaque valeur à la coordonnée (x,y) représente le nombre d'arêtes entre les noeuds x et y. Les graphes étant non orientés; cette matrice est donc symétrique.\n",
    "Voici un éxemple de définition suivant cette structure :\n",
    "```\n",
    "                 # x1 x2 x3 x4 x5 x6\n",
    "                 \n",
    "Graph = np.array([[0, 1, 0, 0, 0, 0],     # y1\n",
    "                  [1, 0, 1, 0, 1, 0],     # y2\n",
    "                  [0, 1, 0, 1, 1, 0],     # y3\n",
    "                  [0, 0, 1, 0, 0, 1],     # y4\n",
    "                  [0, 1, 1, 0, 0, 1],     # y5\n",
    "                  [0, 0, 0, 1, 1, 0]])    # y6\n",
    "```\n",
    "\n",
    "Pour effectuer la constraction de deux sommets, on va considerer que l'on en isole un (par exmple y) et on ajoute tous les liens du noeud isolé au noeud restant (par exemple x)."
   ]
  },
  {
   "cell_type": "code",
   "execution_count": 79,
   "id": "51e42921",
   "metadata": {},
   "outputs": [],
   "source": [
    "def contraction(G, e):\n",
    "    # récupération des indice des deux sommets à fusionner\n",
    "    x,y = e\n",
    "        \n",
    "    # récupération du nombre d'arêtes entre y et chaque autre sommet\n",
    "    fus_l = G[y,:]\n",
    "\n",
    "    # on met à jour le sommet x en ajoutant les relations de y\n",
    "    G[x,:] += fus_l\n",
    "    G[:,x] += fus_l\n",
    "    \n",
    "    # on ne considère pas les arête auto-référentes\n",
    "    G[x,x] = 0\n",
    "    \n",
    "    # on \"isole\" le sommet y en mettant ses lignes et colonnes correspondantes à 0\n",
    "    G[y,:] = np.zeros(len(G))\n",
    "    G[:,y] = np.zeros(len(G))\n",
    "    \n",
    "    # on renvoie le nouveau graph ainsi que le sommet isolé\n",
    "    return G, y\n"
   ]
  },
  {
   "cell_type": "markdown",
   "id": "dbeaaf29-58be-4f08-9977-7d8262bc312e",
   "metadata": {},
   "source": [
    "## Question 1.b"
   ]
  },
  {
   "cell_type": "markdown",
   "id": "dd6f1d00-f52f-4321-a6a8-cf9f1e3efe57",
   "metadata": {},
   "source": [
    "### Graphes Complets"
   ]
  },
  {
   "cell_type": "code",
   "execution_count": 75,
   "id": "23fdce66",
   "metadata": {},
   "outputs": [],
   "source": [
    "tps_complet = []\n",
    "N = [10,20,50,100,250,500,1000,2000]\n",
    "\n",
    "for n in N:\n",
    "    tps_N = []\n",
    "    # tirage aléatoire de 2 sommets à fusionner\n",
    "    # toutes les instances de graph pour ce n fusionnerons les deux mêmes sommets\n",
    "    e = (np.random.randint(n),np.random.randint(n))\n",
    "    \n",
    "    for i in range(1000):\n",
    "        # création de la matrice d'un graph complet de taille n\n",
    "        G = np.ones((n,n))\n",
    "        G = G - np.eye(n)\n",
    "        \n",
    "        # Calcul du temps d'execution\n",
    "        debut = time.time()\n",
    "        G, y = contraction(G,e)\n",
    "        fin = time.time()\n",
    "        \n",
    "        # stockage des temps d'exécution pour ce n\n",
    "        tps_N.append(fin-debut)\n",
    "    \n",
    "    # stockage de la moyenne des temps d'exécution pour chaque n\n",
    "    tps_complet.append(np.mean(tps_N))\n"
   ]
  },
  {
   "cell_type": "markdown",
   "id": "0d85a637-f17b-4ba3-88d0-12aabac7827d",
   "metadata": {},
   "source": [
    "### Graphes à Cycles"
   ]
  },
  {
   "cell_type": "code",
   "execution_count": 76,
   "id": "e22e6b49",
   "metadata": {},
   "outputs": [],
   "source": [
    "tps_cycle = []\n",
    "N = [10,20,50,100,250,500,1000,2000]\n",
    "\n",
    "for n in N:\n",
    "    tps_N = []\n",
    "    # tirage aléatoire de 2 sommets à fusionner\n",
    "    # toutes les instances de graph pour ce n fusionnerons les deux mêmes sommets\n",
    "    e = (np.random.randint(n),np.random.randint(n))\n",
    "    \n",
    "    for i in range(1000):\n",
    "        # création de la matrice d'un graph à cycle de taille n\n",
    "        G = np.zeros((n,n))\n",
    "        np.fill_diagonal(G[:,1:], 1)\n",
    "        G[-1,0] = 1\n",
    "        \n",
    "        # Calcul du temps d'execution\n",
    "        debut = time.time()\n",
    "        G, y = contraction(G,e)\n",
    "        fin = time.time()\n",
    "        \n",
    "        # stockage des temps d'exécution pour ce n\n",
    "        tps_N.append(fin-debut)\n",
    "    \n",
    "    # stockage de la moyenne des temps d'exécution pour chaque n\n",
    "    tps_cycle.append(np.mean(tps_N))\n"
   ]
  },
  {
   "cell_type": "markdown",
   "id": "3d467613-0201-4d8c-85fc-6d6da6188ec5",
   "metadata": {},
   "source": [
    "### Graphes construits par Proba"
   ]
  },
  {
   "cell_type": "code",
   "execution_count": 77,
   "id": "bb45a879",
   "metadata": {},
   "outputs": [],
   "source": [
    "tps_proba = []\n",
    "N = [10,20,50,100,250,500,1000,2000]\n",
    "\n",
    "for n in N:\n",
    "    tps_N = []\n",
    "    # tirage aléatoire de 2 sommets à fusionner\n",
    "    # toutes les instances de graph pour ce n fusionnerons les deux mêmes sommets\n",
    "    e = (np.random.randint(n),np.random.randint(n))\n",
    "    \n",
    "    for i in range(1000):\n",
    "        # création de la matrice du graph aléatoire\n",
    "        G = np.random.randint(2, size = (n,n))\n",
    "        \n",
    "        # Calcul du temps d'execution\n",
    "        debut = time.time()\n",
    "        G, y = contraction(G,e)\n",
    "        fin = time.time()\n",
    "        \n",
    "        # stockage des temps d'exécution pour ce n\n",
    "        tps_N.append(fin-debut)\n",
    "    \n",
    "    # stockage de la moyenne des temps d'exécution pour chaque n\n",
    "    tps_proba.append(np.mean(tps_N))\n"
   ]
  },
  {
   "cell_type": "code",
   "execution_count": 78,
   "id": "2f852fc5-83ec-47e4-b2c6-7f59c28d6725",
   "metadata": {},
   "outputs": [
    {
     "data": {
      "image/png": "[encoded data removed]",
      "text/plain": [
       "<Figure size 432x288 with 1 Axes>"
      ]
     },
     "metadata": {
      "needs_background": "light"
     },
     "output_type": "display_data"
    }
   ],
   "source": [
    "# Visualisation plus pratique\n",
    "plt.figure()\n",
    "plt.xlabel('nombre de sommets du graph')\n",
    "plt.ylabel('Tps d\\'exécution (sec)')\n",
    "plt.plot(N, tps_complet, label='Graph complet')\n",
    "plt.plot(N, tps_cycle, label='Graph à cycle')\n",
    "plt.plot(N, tps_proba, label='Graph à proba')\n",
    "plt.legend()\n",
    "plt.show()"
   ]
  },
  {
   "cell_type": "markdown",
   "id": "233870ca-88c9-4225-9da7-c07fae9537d8",
   "metadata": {},
   "source": [
    "## Question 1.c\n",
    "\n",
    "Nous cherchons tirer aléatoirement une arête parmi toutes celles existance dans notre graphe. Une idée pour nous permettre de le faire serait de définir les probabilités de tirer un sommet précis en connaissant le nombre d'arête relié à chacun. Nous pourrions ainsi pondérer la probabilité de tirer un couple de sommet.\n",
    "\n",
    "Nous allons pour cela sommer sur les lignes (ou les colonnes) les valeurs de la matrice d'adjacence. Nous avons ainsi un vecteur stockant le nombre d'arêtes partant de chaque sommet. Pour obtenir une probabilité, nous devons normaliser en divisant par la somme du nombre d'arêtes, divisée par deux (graph non orienté).\n",
    "\n",
    "Le graphe étant non orienté et la matrice d'adjacence étant symétrique, l'axe sur lequel nous effectuons l'opération n'a pas de réelle importance."
   ]
  },
  {
   "cell_type": "code",
   "execution_count": 158,
   "id": "625a50a6",
   "metadata": {},
   "outputs": [],
   "source": [
    "def selectRandom(G):\n",
    "    n = len(G)\n",
    "    # calcul de la proba de choisir un arc relié à un certain sommet\n",
    "    proba = ( np.sum(G, axis = 0)/(np.sum(G)) ).tolist()\n",
    "    \n",
    "    # tirage aléatoire\n",
    "    x = np.random.choice(n, p=proba)\n",
    "    y = np.random.choice(n, p=proba)\n",
    "    \n",
    "    # on continue de tier si jamais on a tirer un couple de sommet non reliés\n",
    "    while (G[x,y]==0):\n",
    "        x = np.random.choice(n, p=proba)\n",
    "        y = np.random.choice(n, p=proba)\n",
    "                \n",
    "    return x,y"
   ]
  },
  {
   "cell_type": "code",
   "execution_count": 159,
   "id": "541b587c",
   "metadata": {},
   "outputs": [],
   "source": [
    "def karger(G):\n",
    "    V = [*range(len(G))]\n",
    "    S = []\n",
    "    \n",
    "    while len(V) > 2:\n",
    "        e = selectRandom(G)\n",
    "        \n",
    "        G ,y = contraction(G,e)\n",
    "        \n",
    "        V.remove(y)\n",
    "        S.append(y)\n",
    "        \n",
    "    return S\n",
    "    "
   ]
  },
  {
   "cell_type": "code",
   "execution_count": 160,
   "id": "d88629d2",
   "metadata": {},
   "outputs": [
    {
     "name": "stdout",
     "output_type": "stream",
     "text": [
      "[[0 1 0 0 0 0]\n",
      " [1 0 1 0 1 0]\n",
      " [0 1 0 1 1 0]\n",
      " [0 0 1 0 0 1]\n",
      " [0 1 1 0 0 1]\n",
      " [0 0 0 1 1 0]]\n",
      "[5, 1, 3, 4]\n"
     ]
    }
   ],
   "source": [
    "G1 = np.array([[0,1,0,0,0,0],\n",
    "               [1,0,1,0,1,0],\n",
    "               [0,1,0,1,1,0],\n",
    "               [0,0,1,0,0,1],\n",
    "               [0,1,1,0,0,1],\n",
    "               [0,0,0,1,1,0]])\n",
    "\n",
    "print(G1)\n",
    "print(karger(G1))"
   ]
  },
  {
   "cell_type": "code",
   "execution_count": 10,
   "id": "851865ae",
   "metadata": {},
   "outputs": [
    {
     "name": "stdout",
     "output_type": "stream",
     "text": [
      "[(2, 1)]\n"
     ]
    }
   ],
   "source": [
    "# 1.e\n",
    "# Dictionnaire {\"Key :[sommet]\" : \"successeur :[(sommet, nb d'arêtes)]\"}\n",
    "\n",
    "#n1 = {[1], \"succ\": [{n2, 1}]}\n",
    "g = {'1' : [(2, 1)],\n",
    "    '2' : [(1,1), (3,1), (5,1)],\n",
    "    '3' : [(2,1), (4,1), (5,1)],\n",
    "    '4' : [(3,1), (6,1)],\n",
    "    '5' : [(2,1), (3,1), (6,1)],\n",
    "    '6' : [(4,1), (5,1)]}\n",
    "\n",
    "print(g['1'])\n",
    "\n"
   ]
  },
  {
   "cell_type": "code",
   "execution_count": 11,
   "id": "84375505",
   "metadata": {},
   "outputs": [],
   "source": [
    "def contraction_2(G, e):\n",
    "        \n",
    "    # récupération des indice des deux sommets à fusionner\n",
    "    x,y = e\n",
    "        \n",
    "    # récupération du nombre d'arête entre y et chaque autre sommet\n",
    "    Gx = G[str(x)]\n",
    "    Gy = G[str(y)]\n",
    "\n",
    "    G_new = Gx\n",
    "    for elm in Gy:\n",
    "        if elm not in G_new:\n",
    "            G_new.append(elm)\n",
    "        else:\n",
    "            G_new[elm][1] +=1\n",
    "            \n",
    "    G_new.remove()\n",
    "\n",
    "    \n",
    "    return G, y"
   ]
  },
  {
   "cell_type": "code",
   "execution_count": 104,
   "id": "507faeb8-8f33-441d-8869-1c185442fb15",
   "metadata": {},
   "outputs": [
    {
     "data": {
      "text/plain": [
       "5"
      ]
     },
     "execution_count": 104,
     "metadata": {},
     "output_type": "execute_result"
    }
   ],
   "source": [
    "np.random.choice(len(G1), p = [0.1,0.1,0.2,0.1,0.2,0.3])"
   ]
  },
  {
   "cell_type": "code",
   "execution_count": 94,
   "id": "abfc596a-fb3b-4f51-822d-7cfd0b2f8616",
   "metadata": {},
   "outputs": [
    {
     "data": {
      "text/plain": [
       "6"
      ]
     },
     "execution_count": 94,
     "metadata": {},
     "output_type": "execute_result"
    }
   ],
   "source": []
  },
  {
   "cell_type": "code",
   "execution_count": null,
   "id": "3f7e2597-80a0-4f25-9503-47c388ce0cd1",
   "metadata": {},
   "outputs": [],
   "source": []
  }
 ],
 "metadata": {
  "kernelspec": {
   "display_name": "Python 3",
   "language": "python",
   "name": "python3"
  },
  "language_info": {
   "codemirror_mode": {
    "name": "ipython",
    "version": 3
   },
   "file_extension": ".py",
   "mimetype": "text/x-python",
   "name": "python",
   "nbconvert_exporter": "python",
   "pygments_lexer": "ipython3",
   "version": "3.8.10"
  }
 },
 "nbformat": 4,
 "nbformat_minor": 5
}
