{
 "cells": [
  {
   "cell_type": "code",
   "execution_count": 14,
   "id": "6970d709",
   "metadata": {},
   "outputs": [],
   "source": [
    "from random import *\n"
   ]
  },
  {
   "cell_type": "markdown",
   "id": "e4acd999",
   "metadata": {},
   "source": [
    "## Question 1.e"
   ]
  },
  {
   "cell_type": "code",
   "execution_count": 77,
   "id": "3b5ceeef",
   "metadata": {},
   "outputs": [],
   "source": [
    "\n",
    "g = {'1': ['2', '3'],\n",
    "    '2': ['1', '3', '5'],\n",
    "    '3' : ['1', '2', '4'],\n",
    "    '4' : ['3', '5'],\n",
    "    '5' : ['2', '4']\n",
    "}\n",
    "\n",
    "def contraction(g, arete):\n",
    "    i, j = arete  #les deux sommets de l'arête \n",
    "    noeud = i + \",\" + j #le nouveau sommet\n",
    "    g[noeud] = [] #la liste des successeur du sommet \n",
    "    #O(n)\n",
    "    for elm in g[i]:\n",
    "        if elm not in i.split(',') and elm not in j.split(','):\n",
    "            g[noeud].append(elm)\n",
    "    #O(n)\n",
    "    for elm in g[j]:\n",
    "        if elm not in i.split(',') and elm not in j.split(','):\n",
    "            g[noeud].append(elm)\n",
    "    \n",
    "    del g[i] \n",
    "    del g[j]\n",
    "    return g\n"
   ]
  },
  {
   "cell_type": "markdown",
   "id": "2a3726b9",
   "metadata": {},
   "source": [
    "## Question 1.f"
   ]
  },
  {
   "cell_type": "code",
   "execution_count": 17,
   "id": "9d626df3",
   "metadata": {},
   "outputs": [],
   "source": [
    "#Chaque sommet existe dans le dictionnaire exactement le nombre de fois ou elle est relier par une arête \n",
    "##On construit une liste qui est la concatination de toutes les liste du dictionaire on note LISTE\n",
    "####Sa complexiter est O(n) \n",
    "## 1 - on tire un sommet aléatoir dans la liste LIST on note S \n",
    "#  2 - on tire un autre sommet aléatoir de la liste du sommet S \n",
    "def randomSommet(g):\n",
    "    liste = []\n",
    "    #O(n)\n",
    "    for elm in g.keys():\n",
    "        liste += list(g[elm])\n",
    "    \n",
    "    i = randint(0, len(liste)-1)\n",
    "    s1 = liste[i]\n",
    "    s2 = -1\n",
    "    if s1 in g:\n",
    "        i = randint(0, len(g[s1])-1)\n",
    "        s2 = g[s1][i]\n",
    "    else:\n",
    "        l = list(g.keys())\n",
    "        #O(n)\n",
    "        for elm in l:\n",
    "            e = elm.split(',')\n",
    "            if s1 in e:\n",
    "                i = randint(0, len(g[elm]) - 1)\n",
    "                s1 = elm\n",
    "                s2 = g[elm][i]\n",
    "                break\n",
    "    \n",
    "    l = list(g.keys())    \n",
    "    if s2 not in g:\n",
    "        #O(n)\n",
    "        for elm in l:\n",
    "            e = elm.split(',')\n",
    "            if s2 in e:\n",
    "                s2 = elm\n",
    "                break\n",
    "    return (s1, s2)\n",
    "    \n",
    "    "
   ]
  },
  {
   "cell_type": "code",
   "execution_count": 78,
   "id": "e87b5551",
   "metadata": {},
   "outputs": [],
   "source": [
    "def kargen(g):\n",
    "    while len(g.keys()) > 2:\n",
    "        arete = randomSommet(g)\n",
    "        g = contraction(g, arete) \n",
    "        print(g)\n",
    "    return g"
   ]
  },
  {
   "cell_type": "code",
   "execution_count": 79,
   "id": "2c10c8a5",
   "metadata": {},
   "outputs": [
    {
     "name": "stdout",
     "output_type": "stream",
     "text": [
      "{'1': ['2', '3'], '2': ['1', '3', '5'], '3': ['1', '2', '4'], '4,5': ['3', '2']}\n",
      "{'1': ['2', '3'], '4,5': ['3', '2'], '3,2': ['1', '4', '1', '5']}\n",
      "{'1': ['2', '3'], '4,5,3,2': ['1', '1']}\n"
     ]
    },
    {
     "data": {
      "text/plain": [
       "{'1': ['2', '3'], '4,5,3,2': ['1', '1']}"
      ]
     },
     "execution_count": 79,
     "metadata": {},
     "output_type": "execute_result"
    }
   ],
   "source": [
    "kargen(g)"
   ]
  },
  {
   "cell_type": "markdown",
   "id": "448e400e",
   "metadata": {},
   "source": [
    "## Question 1.g (Complexité théorique) "
   ]
  },
  {
   "cell_type": "markdown",
   "id": "7830b9b1",
   "metadata": {},
   "source": [
    "###### 1-La fonction de contraction s'éxecute en O(n) ,\n",
    "###### 2- La fonction qui probabiliste qui tire au hasard une arête s'éxecute en O(n)\n",
    "###### 3-La complexiter total est O(n²) \n"
   ]
  },
  {
   "cell_type": "markdown",
   "id": "bcf1e522",
   "metadata": {},
   "source": [
    "### Question 1.h  (La complexité expérimentale )"
   ]
  },
  {
   "cell_type": "code",
   "execution_count": 19,
   "id": "a6d47170",
   "metadata": {},
   "outputs": [],
   "source": [
    "#Teste sur des cycles \n",
    "def grapheCycle(taille):\n",
    "    g = dict()\n",
    "    i = 1 \n",
    "    while i < taille:\n",
    "        g[str(i)] = [str(i+1)]\n",
    "        i += 1\n",
    "    g[str(taille)] = [str(1)]\n",
    "    i = taille\n",
    "    while i > 1:\n",
    "        g[str(i)].append(str(i-1))\n",
    "        i -= 1\n",
    "    g['1'].append(str(taille))\n",
    "    return g\n",
    "\n",
    "g = grapheCycle(6)\n",
    " "
   ]
  },
  {
   "cell_type": "code",
   "execution_count": 20,
   "id": "749e2553",
   "metadata": {},
   "outputs": [
    {
     "data": {
      "text/plain": [
       "[130, 160, 190, 220, 250]"
      ]
     },
     "execution_count": 20,
     "metadata": {},
     "output_type": "execute_result"
    }
   ],
   "source": [
    "import matplotlib.pyplot as plt\n",
    "from time import *\n",
    "from math import *\n",
    "\n",
    "t = 100\n",
    "taille = []\n",
    "for i in range(200):\n",
    "    taille.append(t+i)\n",
    "\n",
    "\n",
    "listeTemps = []\n",
    "listeTaille = []\n",
    "nb = 0\n",
    "for j in range(5):\n",
    "    moyenne = 0\n",
    "    for i in range(30):\n",
    "        debut = time()\n",
    "        kargen(grapheCycle(taille[nb]))\n",
    "        tmps = time() - debut\n",
    "        moyenne += tmps\n",
    "        nb+=1\n",
    "\n",
    "    listeTemps.append((moyenne/5))\n",
    "    listeTaille.append(taille[nb])\n",
    "\n",
    "listeTaille\n"
   ]
  },
  {
   "cell_type": "code",
   "execution_count": 21,
   "id": "fad165c3",
   "metadata": {},
   "outputs": [
    {
     "data": {
      "text/plain": [
       "[<matplotlib.lines.Line2D at 0x7fca9f356bf0>]"
      ]
     },
     "execution_count": 21,
     "metadata": {},
     "output_type": "execute_result"
    },
    {
     "data": {
      "image/png": "[encoded data removed]",
      "text/plain": [
       "<Figure size 432x288 with 1 Axes>"
      ]
     },
     "metadata": {
      "needs_background": "light"
     },
     "output_type": "display_data"
    }
   ],
   "source": [
    "plt.plot(listeTaille,listeTemps)"
   ]
  },
  {
   "cell_type": "code",
   "execution_count": null,
   "id": "234c1a52",
   "metadata": {},
   "outputs": [],
   "source": []
  },
  {
   "cell_type": "code",
   "execution_count": 22,
   "id": "90724b28",
   "metadata": {},
   "outputs": [
    {
     "data": {
      "text/plain": [
       "{'1': ['2', '6'],\n",
       " '2': ['3', '1'],\n",
       " '3': ['4', '2'],\n",
       " '4': ['5', '3'],\n",
       " '5': ['6', '4'],\n",
       " '6': ['1', '5']}"
      ]
     },
     "execution_count": 22,
     "metadata": {},
     "output_type": "execute_result"
    }
   ],
   "source": [
    "g1 = g.copy()\n",
    "g1"
   ]
  },
  {
   "cell_type": "markdown",
   "id": "ec1eb54a",
   "metadata": {},
   "source": [
    "# Exercice 2"
   ]
  },
  {
   "cell_type": "markdown",
   "id": "d68934f7",
   "metadata": {},
   "source": [
    "## Question 2.b"
   ]
  },
  {
   "cell_type": "code",
   "execution_count": 34,
   "id": "662d7ff4",
   "metadata": {},
   "outputs": [],
   "source": [
    "def kargenIter(g, t):\n",
    "    m = -1\n",
    "    gFinal = dict()\n",
    "    while t > 0:\n",
    "        g1 = g.copy()\n",
    "        while len(g1.keys()) > 2:\n",
    "            arete =randomSommet(g1)\n",
    "            g1 = contraction(g1, arete)\n",
    "        sIter = list(g1.keys())[0]\n",
    "        if(m == -1 or len(sIter) < m):\n",
    "            m = len(sIter)\n",
    "            gFinal = g1.copy()\n",
    "        \n",
    "        t -= 1\n",
    "    return gFinal\n",
    "        \n"
   ]
  },
  {
   "cell_type": "code",
   "execution_count": 36,
   "id": "3e98abbe",
   "metadata": {},
   "outputs": [
    {
     "data": {
      "text/plain": [
       "{'5': ['6', '4'], '1,6,2,3,4': ['5', '5']}"
      ]
     },
     "execution_count": 36,
     "metadata": {},
     "output_type": "execute_result"
    }
   ],
   "source": [
    "kargenIter(grapheCycle(6), 5)"
   ]
  },
  {
   "cell_type": "markdown",
   "id": "40d1d4c6",
   "metadata": {},
   "source": [
    "## Question 2.c (Etude expérimentale)\n"
   ]
  },
  {
   "cell_type": "code",
   "execution_count": null,
   "id": "82c59b02",
   "metadata": {},
   "outputs": [],
   "source": []
  },
  {
   "cell_type": "markdown",
   "id": "8ce0bfae",
   "metadata": {},
   "source": [
    "# Exercice 3\n"
   ]
  },
  {
   "cell_type": "markdown",
   "id": "b4aaf9b8",
   "metadata": {},
   "source": [
    "## Qestion A "
   ]
  },
  {
   "cell_type": "markdown",
   "id": "fd56f329",
   "metadata": {},
   "source": [
    "#### On a l'algorithme de contraction partielle fait la boucle  1 + n / √2 \n",
    "#### L'algorithme de Karger-Stein :  \n",
    "#### 1 - Appel de l'algorithme Karger-Stein récursivement 2 fois, a chaque fois avec un graphe de 1+ n / √2 sommet et qui s'éxecute en T( 1 + n / √2 )  \n",
    "#### 2 - Appel la fonction de contraction partielle.\n",
    "#### 3 - La fonction de contraction partielle est appelé 1 + n / √2 fois  alors on a \n",
    "#### (1 + n / √2) * ( 1 + n / √2) => O(n²) \n",
    "\n",
    "#### D'après 1 et 3 on a bien  T(n) = 2 T(1 + n / √2)  + O(n²) \n",
    "\n",
    "\n",
    "#### Déduire :\n",
    "#### On a l'algorithme de karger-Stein s'éxecute récursivement donc le temps d'éxecution de T(n) = O(n²*log(n))\n",
    "\n",
    "\n",
    "\n",
    "\n",
    "\n",
    "\n",
    "\n",
    "\n",
    "\n",
    "\n",
    "\n",
    "\n",
    "\n",
    "\n",
    "\n",
    "\n",
    "\n",
    "\n",
    "\n",
    "\n",
    "\n",
    "\n",
    "\n",
    "\n",
    "\n",
    "\n"
   ]
  },
  {
   "cell_type": "markdown",
   "id": "35f3275f",
   "metadata": {},
   "source": [
    "## Question D"
   ]
  },
  {
   "cell_type": "code",
   "execution_count": 40,
   "id": "e0982860",
   "metadata": {},
   "outputs": [
    {
     "name": "stdout",
     "output_type": "stream",
     "text": [
      "[3]\n"
     ]
    }
   ],
   "source": [
    "s = 4\n",
    "j = 1\n",
    "sommet = []\n",
    "while s > 0:\n",
    "    if s % 2 == 1:\n",
    "        sommet.append(j)\n",
    "    s = int(s/2)\n",
    "    j += 1\n",
    "\n",
    "print(sommet)"
   ]
  },
  {
   "cell_type": "code",
   "execution_count": 112,
   "id": "751cbcae",
   "metadata": {},
   "outputs": [],
   "source": [
    "def contractionPartielle(g ,t):\n",
    "    g1 = g.copy()\n",
    "    while(len(g1.keys()) > t):\n",
    "        arete = randomSommet(g1)\n",
    "        contraction(g1, arete)\n",
    "        \n",
    "    return g1\n",
    "\n",
    "def calculCoup(g):\n",
    "    m = -1 #la taille de la coupe minimale trouver jusqu'a maintenant \n",
    "    listKeys = list(g.keys()) #Les sommets du graphe g \n",
    "    n = len(listKeys) #Le nombre de sommet du graphe g\n",
    "    nb = pow(2, n) - 2 #Le nombre de combinaison a essaie\n",
    "    i = 1\n",
    "    sBest = dict() #La coupe minimale\n",
    "    while i < nb:\n",
    "        s = i\n",
    "        sommet = []\n",
    "        j = 0\n",
    "        ##calculer les sommets attester comme coupe\n",
    "        while s > 0: \n",
    "            if s%2 == 1:\n",
    "                sommet.append(j)\n",
    "            s  = int(s/2)\n",
    "            j += 1\n",
    "        if (len(sommet) == 1): #Couper que le sommet\n",
    "            som = sommet[0] #récupèrer le numéro du sommet\n",
    "            som =  listKeys[som] #récupèrer la clé du sommet \n",
    "            if m == -1 or m > len(g[som]) :\n",
    "                m = len(g[som])\n",
    "                sBest = som\n",
    "        else: #compter le nombre d'arête sortante \n",
    "            #recupèrer la coupe actuel\n",
    "            sActuel = []\n",
    "            for s in sommet:\n",
    "                som = listKeys[s]\n",
    "                for elm in som.split(','):\n",
    "                    sActuel.append(elm)\n",
    "            #compter le nombre d'arête de la coupe actuelle \n",
    "            coupe1 = 0\n",
    "            for s in sommet:\n",
    "                som = listKeys[s]\n",
    "                arete = g[som] #Les successeurs du sommet \n",
    "                for elm in arete:\n",
    "                    if elm not in sActuel:\n",
    "                        coupe1 += 1\n",
    "            if m == -1 or m > coupe1:\n",
    "                m = coupe1 \n",
    "                sBest = ','.join(sActuel) #La coupe minimale\n",
    "        \n",
    "        i += 1\n",
    "    return sBest.split(\",\")\n",
    "                \n",
    "    \n",
    "def kargerStein(g):\n",
    "    m = -1 \n",
    "    if len(list(g.keys())) <= 6:\n",
    "        return calculCoup(g)\n",
    "    else:\n",
    "        t = int( 1 + len( list(g.keys())) / sqrt(2))\n",
    "        g1 = contractionPartielle(g, t)\n",
    "        s1 = kargerStein(g1)\n",
    "        m1 = len(s1)\n",
    "        g2 = contractionPartielle(g, t)\n",
    "        s2 = kargerStein(g2)\n",
    "        m2 = len(s2)\n",
    "        if m1 < m2:\n",
    "            return s1\n",
    "        else:\n",
    "            return s2\n",
    "        "
   ]
  },
  {
   "cell_type": "code",
   "execution_count": null,
   "id": "88e07656",
   "metadata": {},
   "outputs": [],
   "source": [
    "#Test 1 sur le graphe "
   ]
  },
  {
   "attachments": {
    "Diagramme%20sans%20nom.drawio%282%29.png": {
     "image/png": "[encoded data removed]"
    }
   },
   "cell_type": "markdown",
   "id": "7cd5ee56",
   "metadata": {},
   "source": [
    "![Diagramme%20sans%20nom.drawio%282%29.png](attachment:Diagramme%20sans%20nom.drawio%282%29.png)"
   ]
  },
  {
   "cell_type": "code",
   "execution_count": 113,
   "id": "09ea4338",
   "metadata": {},
   "outputs": [
    {
     "data": {
      "text/plain": [
       "['5', '6', '7']"
      ]
     },
     "execution_count": 113,
     "metadata": {},
     "output_type": "execute_result"
    }
   ],
   "source": [
    "#Teste 1 sur un graph \n",
    "g = {'1': ['2', '4', '3'],\n",
    "     '2': ['3', '1'],\n",
    "     '3': ['1', '2', '4', '5'],\n",
    "     '4': ['1', '3'],\n",
    "     '5': ['3', '6', '7'],\n",
    "     '6': ['5', '7'],\n",
    "     '7': ['5', '6']\n",
    "    }\n",
    "kargerStein(g)"
   ]
  },
  {
   "cell_type": "code",
   "execution_count": null,
   "id": "20798799",
   "metadata": {
    "scrolled": true
   },
   "outputs": [],
   "source": []
  },
  {
   "cell_type": "code",
   "execution_count": null,
   "id": "124cc1b6",
   "metadata": {},
   "outputs": [],
   "source": []
  }
 ],
 "metadata": {
  "kernelspec": {
   "display_name": "Python 3 (ipykernel)",
   "language": "python",
   "name": "python3"
  },
  "language_info": {
   "codemirror_mode": {
    "name": "ipython",
    "version": 3
   },
   "file_extension": ".py",
   "mimetype": "text/x-python",
   "name": "python",
   "nbconvert_exporter": "python",
   "pygments_lexer": "ipython3",
   "version": "3.10.6"
  }
 },
 "nbformat": 4,
 "nbformat_minor": 5
}
