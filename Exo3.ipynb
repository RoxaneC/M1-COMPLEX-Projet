{
 "cells": [
  {
   "cell_type": "code",
   "execution_count": 9,
   "id": "72659832",
   "metadata": {},
   "outputs": [],
   "source": [
    "import numpy as np\n",
    "from random import *\n",
    "from time import *\n",
    "import matplotlib.pyplot as plt\n",
    "import math\n"
   ]
  },
  {
   "cell_type": "markdown",
   "id": "9514604c",
   "metadata": {},
   "source": [
    "## Fonction utiliser dans karger et kargerIter et kargerStein"
   ]
  },
  {
   "cell_type": "code",
   "execution_count": 5,
   "id": "59701bd2",
   "metadata": {},
   "outputs": [],
   "source": [
    "def contraction(g, arete):\n",
    "    i, j = arete  #les deux sommets de l'arête \n",
    "    noeud = i + \",\" + j #le nouveau sommet\n",
    "    g[noeud] = [] #la liste des successeur du sommet \n",
    "    #O(n)\n",
    "    for elm in g[i]:\n",
    "        if elm not in i.split(',') and elm not in j.split(','):\n",
    "            g[noeud].append(elm)\n",
    "    #O(n)\n",
    "    for elm in g[j]:\n",
    "        if elm not in i.split(',') and elm not in j.split(','):\n",
    "            g[noeud].append(elm)\n",
    "    \n",
    "    del g[i] \n",
    "    del g[j]\n",
    "    return g"
   ]
  },
  {
   "cell_type": "code",
   "execution_count": 4,
   "id": "795c79b5",
   "metadata": {},
   "outputs": [],
   "source": [
    "#Chaque sommet existe dans le dictionnaire exactement le nombre de fois ou elle est relier par une arête \n",
    "##On construit une liste qui est la concatination de toutes les liste du dictionaire on note LISTE\n",
    "####Sa complexiter est O(n) \n",
    "## 1 - on tire un sommet aléatoir dans la liste LIST on note S \n",
    "#  2 - on tire un autre sommet aléatoir de la liste du sommet S \n",
    "def randomSommet(g):\n",
    "    liste = []\n",
    "    #O(n)\n",
    "    for elm in g.keys():\n",
    "        liste += list(g[elm])\n",
    "    \n",
    "    i = randint(0, len(liste)-1)\n",
    "    s1 = liste[i]\n",
    "    s2 = -1\n",
    "    if s1 in g:\n",
    "        i = randint(0, len(g[s1])-1)\n",
    "        s2 = g[s1][i]\n",
    "    else:\n",
    "        l = list(g.keys())\n",
    "        #O(n)\n",
    "        for elm in l:\n",
    "            e = elm.split(',')\n",
    "            if s1 in e:\n",
    "                i = randint(0, len(g[elm]) - 1)\n",
    "                s1 = elm\n",
    "                s2 = g[elm][i]\n",
    "                break\n",
    "    \n",
    "    l = list(g.keys())    \n",
    "    if s2 not in g:\n",
    "        #O(n)\n",
    "        for elm in l:\n",
    "            e = elm.split(',')\n",
    "            if s2 in e:\n",
    "                s2 = elm\n",
    "                break\n",
    "    return (s1, s2)"
   ]
  },
  {
   "cell_type": "code",
   "execution_count": 43,
   "id": "53c4ce12",
   "metadata": {},
   "outputs": [],
   "source": [
    "####Géneration de graphe\n",
    "#Graphe avec cycle\n",
    "def grapheCycle(taille):\n",
    "    g = dict()\n",
    "    i = 1 \n",
    "    while i < taille:\n",
    "        g[str(i)] = [str(i+1)]\n",
    "        i += 1\n",
    "    g[str(taille)] = [str(1)]\n",
    "    i = taille\n",
    "    while i > 1:\n",
    "        g[str(i)].append(str(i-1))\n",
    "        i -= 1\n",
    "    g['1'].append(str(taille))\n",
    "    return g\n",
    "\n",
    "#grapheComplet\n",
    "def grapheComplet(taille):\n",
    "    g = dict()\n",
    "    #la liste de tous les sommets \n",
    "    liste = []\n",
    "    i = 1\n",
    "    while i <= taille:\n",
    "        liste.append(str(i))\n",
    "        i += 1\n",
    "    \n",
    "    i = 1\n",
    "    while i <= taille:\n",
    "        liste1 = liste.copy()\n",
    "        liste1.remove(str(i))\n",
    "        g[str(i)] = liste1 \n",
    "        i += 1\n",
    "    return g\n",
    "\n",
    "#Graphe bipartie complet\n",
    "def grapheBipartieComplet(taille): #taille doit être multiple de 2 sinon on prend taille+1 ; E1 = {sommet1, ..., sommetTaille/2}\n",
    "                            #et E1 = {sommet_Taille/2+1, ..., sommetTaille}\n",
    "    g = dict()\n",
    "    \n",
    "    if(taille %2 != 0):\n",
    "        taille += 1\n",
    "    listeSommetE1 = []\n",
    "    i = 1\n",
    "    while i <= taille/2:\n",
    "        listeSommetE1.append(str(i))\n",
    "        i += 1\n",
    "    listeSommetE2 = []\n",
    "    while i <= taille:\n",
    "        listeSommetE2.append(str(i))\n",
    "        i += 1\n",
    "    \n",
    "    i = 1\n",
    "    while i <= taille/2:\n",
    "        g[str(i)] = listeSommetE2\n",
    "        i += 1\n",
    "    while i <= taille:\n",
    "        g[str(i)] = listeSommetE1\n",
    "        i += 1\n",
    "    return g\n",
    " \n",
    "#graphe aleatoire \n",
    "def grapheAleatoir(taille):\n",
    "    g = dict()\n",
    "    i = 1\n",
    "    while i < taille:\n",
    "        if str(i) not in list(g.keys()):\n",
    "            g[str(i)] = []\n",
    "        j = i + 1\n",
    "        while j <= taille:\n",
    "            if randint(0,1) == 1:\n",
    "                g[str(i)].append(str(j))\n",
    "                if str(j) not in list(g.keys()):\n",
    "                    g[str(j)] = []\n",
    "                g[str(j)].append(str(i))\n",
    "                    \n",
    "                \n",
    "            j += 1\n",
    "        i += 1\n",
    "        \n",
    "    return g\n",
    "\n"
   ]
  },
  {
   "cell_type": "code",
   "execution_count": 71,
   "id": "0037f379",
   "metadata": {},
   "outputs": [],
   "source": []
  },
  {
   "cell_type": "markdown",
   "id": "0961ee77",
   "metadata": {},
   "source": [
    "## Les fonction de karger"
   ]
  },
  {
   "cell_type": "code",
   "execution_count": 77,
   "id": "239878d1",
   "metadata": {},
   "outputs": [],
   "source": [
    "def karger(g):\n",
    "    while len(g.keys()) > 2:\n",
    "        arete = randomSommet(g)\n",
    "        g = contraction2(g, arete) \n",
    "    return g"
   ]
  },
  {
   "cell_type": "code",
   "execution_count": 78,
   "id": "1b4bc2f2",
   "metadata": {},
   "outputs": [],
   "source": [
    "##Les fonctions de testes\n",
    "#Teste sur des graphes avec un cycles \n",
    "def testGrapheCycle(listeDesTaille, nbRep): #Elle retourne 2 liste une liste avec les tailles et l'autre les temps correspondant a chaque taille\n",
    "                                #Pour chaque taille de la listeDesTaille elle le fait nbRep fois et elle retourne la moyenne de la taille\n",
    "        \n",
    "        listeTemps = []\n",
    "        listeTaille = []\n",
    "        for i in listeDesTaille:\n",
    "            moyenne = 0\n",
    "            for j in range(nbRep):\n",
    "                g = grapheCycle(i)\n",
    "                debut = time()\n",
    "                karger(g)\n",
    "                tmps = time() - debut\n",
    "                moyenne += tmps\n",
    "            listeTemps.append(moyenne/nbRep)\n",
    "            listeTaille.append(i)\n",
    "        return listeTaille, listeTemps\n",
    "\n",
    "\n",
    "def testGrapheComplet(listeDesTaille, nbRep):\n",
    "    listeTemps = []\n",
    "    listeTaille = []\n",
    "    for i in listeDesTaille:\n",
    "        moyenne = 0\n",
    "        for j in range(nbRep):\n",
    "            g = grapheComplet(i)\n",
    "            debut = time()\n",
    "            karger(g)\n",
    "            tmps = time() - debut\n",
    "            moyenne += tmps\n",
    "        listeTemps.append(moyenne/nbRep)\n",
    "        listeTaille.append(i)\n",
    "\n",
    "    return listeTaille, listeTemps\n",
    "\n",
    "def testGrapheBipartie(listeDesTaille, nbRep):\n",
    "    listeTemps = []\n",
    "    listeTaille = []\n",
    "    for i in listeDesTaille:\n",
    "        moyenne = 0\n",
    "        for j in range(nbRep):\n",
    "            g = grapheBipartieComplet(i)\n",
    "            debut = time()\n",
    "            karger(g)\n",
    "            tmps = time() - debut\n",
    "            moyenne += tmps\n",
    "        listeTemps.append(moyenne/nbRep)\n",
    "        listeTaille.append(taille+(nbRep/2))\n",
    "        taille += nbRep\n",
    "    return listeTaille, listeTemps\n",
    "\n",
    "def testGrapheAleatoire(listeDesTaille, nbRep):\n",
    "    listeTemps = []\n",
    "    listeTaille = []\n",
    "    for i in listeDesTaille:\n",
    "        moyenne = 0\n",
    "        for j in range(nbRep):\n",
    "            g = grapheAleatoir(i)\n",
    "            debut = time()\n",
    "            karger(g)\n",
    "            tmps = time() - debut\n",
    "            moyenne += tmps\n",
    "        listeTemps.append(moyenne/nbRep)\n",
    "        listeTaille.append(i)\n",
    "        taille += nbRep\n",
    "    return listeTaille, listeTemps"
   ]
  },
  {
   "cell_type": "code",
   "execution_count": 101,
   "id": "9e8ee5df",
   "metadata": {},
   "outputs": [],
   "source": [
    "def testProba1(graphe, nbTest, tailleCoupe): #Elle prend en pramètre le graphe, le nb de teste a faire et\n",
    "                                              #et la taille de la coupe minimal\n",
    "    taille = tailleCoupe\n",
    "    nbSucces = 0\n",
    "    for i in range(nbTest):\n",
    "        g1 = graphe.copy()\n",
    "        g = karger(g1) # Les deux coupe du format {'som1, som2, ...': [suc1, suc2], 'som1, som2, ...': [suc1, suc2]}\n",
    "        s = list(g.keys())[0] #une des deux coupe\n",
    "        t = len(g[s]) #la taille de la coupe\n",
    "        if t == taille:\n",
    "            nbSucces += 1\n",
    "    return nbSucces"
   ]
  },
  {
   "cell_type": "markdown",
   "id": "b07547fc",
   "metadata": {},
   "source": [
    "## Les fonctions de kargerIter"
   ]
  },
  {
   "cell_type": "code",
   "execution_count": 23,
   "id": "13c9f82b",
   "metadata": {},
   "outputs": [],
   "source": [
    "def kargerIter(g, T):\n",
    "    m_star = math.inf\n",
    "    gFinal = dict()\n",
    "\n",
    "    for i in range(T):\n",
    "        g1 = g.copy()\n",
    "\n",
    "        while len(g1.keys()) > 2:\n",
    "            arete =randomSommet(g1)\n",
    "            g1 = contraction(g1, arete)\n",
    "\n",
    "        print(g1)\n",
    "\n",
    "        sIter = list(g1.keys())[0]\n",
    "        m = len(g1[sIter])\n",
    "\n",
    "        if(m < m_star):\n",
    "            gFinal = g1.copy()\n",
    "            m_star = m\n",
    "        \n",
    "    return gFinal\n",
    "        \n"
   ]
  },
  {
   "cell_type": "code",
   "execution_count": 29,
   "id": "ba8f863d",
   "metadata": {},
   "outputs": [
    {
     "name": "stdout",
     "output_type": "stream",
     "text": [
      "{'5,4': ['2', '3'], '1,2,3': ['5', '4']}\n",
      "{'4,5,3': ['2', '1', '2'], '2,1': ['3', '5', '3']}\n",
      "{'5,2,4': ['1', '3', '3'], '3,1': ['2', '4', '2']}\n",
      "{'1,3': ['2', '2', '4'], '2,4,5': ['1', '3', '3']}\n",
      "{'1': ['2', '3'], '3,2,4,5': ['1', '1']}\n",
      "{'4': ['3', '5'], '5,3,2,1': ['4', '4']}\n",
      "{'1': ['2', '3'], '4,5,2,3': ['1', '1']}\n",
      "{'4,3': ['5', '1', '2'], '1,2,5': ['3', '3', '4']}\n",
      "{'2': ['1', '3', '5'], '1,3,4,5': ['2', '2', '2']}\n",
      "{'5': ['2', '4'], '4,3,2,1': ['5', '5']}\n"
     ]
    },
    {
     "data": {
      "text/plain": [
       "{'5,4': ['2', '3'], '1,2,3': ['5', '4']}"
      ]
     },
     "execution_count": 29,
     "metadata": {},
     "output_type": "execute_result"
    }
   ],
   "source": [
    "# test\n",
    "g = {'1': ['2', '3'],\n",
    "     '2': ['1', '3', '5'],\n",
    "     '3': ['1', '2', '4'],\n",
    "     '4': ['3', '5'],\n",
    "     '5': ['2', '4']}\n",
    "\n",
    "kargerIter(g,10)"
   ]
  },
  {
   "cell_type": "markdown",
   "id": "b13a4a94",
   "metadata": {},
   "source": [
    "#### Teste de kargerIter"
   ]
  },
  {
   "cell_type": "code",
   "execution_count": 195,
   "id": "e53fee74",
   "metadata": {},
   "outputs": [],
   "source": [
    "#Teste sur des graphes avec un cycles \n",
    "def testGrapheCycle1(listeDesTaille, nbRep, nb = 10): #Elle retourne 2 liste une liste avec les tailles et l'autre les temps correspondant a chaque taille\n",
    "                                #Pour chaque taille de la listeDesTaille elle le fait nbRep fois et elle retourne la moyenne de la taille\n",
    "        \n",
    "        listeTemps = []\n",
    "        listeTaille = []\n",
    "        for i in listeDesTaille:\n",
    "            moyenne = 0\n",
    "            for j in range(nbRep):\n",
    "                g = grapheCycle(i)\n",
    "                debut = time()\n",
    "                kargerIter(g, nb)\n",
    "                tmps = time() - debut\n",
    "                moyenne += tmps\n",
    "            listeTemps.append(moyenne/nbRep)\n",
    "            listeTaille.append(i)\n",
    "        return listeTaille, listeTemps\n",
    "\n",
    "\n",
    "def testGrapheComplet1(listeDesTaille, nbRep, nb = 10):\n",
    "    listeTemps = []\n",
    "    listeTaille = []\n",
    "    for i in listeDesTaille:\n",
    "        moyenne = 0\n",
    "        for j in range(nbRep):\n",
    "            g = grapheComplet(i)\n",
    "            debut = time()\n",
    "            kargerIter(g, nb)\n",
    "            tmps = time() - debut\n",
    "            moyenne += tmps\n",
    "        listeTemps.append(moyenne/nbRep)\n",
    "        listeTaille.append(i)\n",
    "    return listeTaille, listeTemps\n",
    "\n",
    "def testGrapheBipartie1(listeDesTaille, nbRep, nb = 10):\n",
    "    listeTemps = []\n",
    "    listeTaille = []\n",
    "    for i in listeDesTaille:\n",
    "        moyenne = 0\n",
    "        for j in range(nbRep):\n",
    "            g = grapheBipartieComplet(i)\n",
    "            debut = time()\n",
    "            kargerIter(g, nb)\n",
    "            tmps = time() - debut\n",
    "            moyenne += tmps\n",
    "        listeTemps.append(moyenne/nbRep)\n",
    "        listeTaille.append(i)\n",
    "    return listeTaille, listeTemps\n",
    "\n",
    "def testGrapheAleatoire1(listeDesTaille, nbRep, nb = 10):\n",
    "    listeTemps = []\n",
    "    listeTaille = []\n",
    "    for i in listeDesTaille:\n",
    "        moyenne = 0\n",
    "        for j in range(nbRep):\n",
    "            g = grapheAleatoir(i)\n",
    "            debut = time()\n",
    "            kargerIter(g, nb)\n",
    "            tmps = time() - debut\n",
    "            moyenne += tmps\n",
    "        listeTemps.append(moyenne/nbRep)\n",
    "        listeTaille.append(i)\n",
    "    return listeTaille, listeTemps"
   ]
  },
  {
   "cell_type": "code",
   "execution_count": 196,
   "id": "6b2f550b",
   "metadata": {},
   "outputs": [],
   "source": [
    "def testProba2(graphe, nbTest, tailleCoupe, nb = 10): #Elle prend en pramètre le graphe, le nb de teste a faire et\n",
    "                                              #et la taille de la coupe minimal\n",
    "    taille = tailleCoupe\n",
    "    nbSucces = 0\n",
    "    for i in range(nbTest):\n",
    "        g1 = graphe.copy()\n",
    "        g = kargerIter(g1, nb) # Les deux coupe du format {'som1, som2, ...': [suc1, suc2], 'som1, som2, ...': [suc1, suc2]}\n",
    "        s = list(g.keys())[0] #une des deux coupe\n",
    "        t = len(g[s]) #la taille de la coupe\n",
    "        if t == taille:\n",
    "            nbSucces += 1\n",
    "    return nbSucces"
   ]
  },
  {
   "cell_type": "markdown",
   "id": "209ee142",
   "metadata": {},
   "source": [
    "## Les fonctions pour kargerStein\n"
   ]
  },
  {
   "cell_type": "code",
   "execution_count": null,
   "id": "e3370716",
   "metadata": {},
   "outputs": [],
   "source": []
  },
  {
   "cell_type": "code",
   "execution_count": null,
   "id": "0c077310",
   "metadata": {},
   "outputs": [],
   "source": []
  },
  {
   "cell_type": "code",
   "execution_count": 197,
   "id": "885f289f",
   "metadata": {},
   "outputs": [],
   "source": [
    "def contractionPartielle(g ,t):\n",
    "    g1 = g.copy()\n",
    "    while(len(g1.keys()) > t):\n",
    "        arete = randomSommet(g1)\n",
    "        contraction(g1, arete)\n",
    "        \n",
    "    return g1\n",
    "\n",
    "def calculCoup(g):\n",
    "    m = -1 #la taille de la coupe minimale trouver jusqu'a maintenant \n",
    "    listKeys = list(g.keys()) #Les sommets du graphe g \n",
    "    n = len(listKeys) #Le nombre de sommet du graphe g\n",
    "    nb = pow(2, n) - 2 #Le nombre de combinaison a essaie\n",
    "    i = 1\n",
    "    sBest = dict() #La coupe minimale\n",
    "    while i < nb:\n",
    "        s = i\n",
    "        sommet = []\n",
    "        j = 0\n",
    "        ##calculer les sommets attester comme coupe\n",
    "        while s > 0: \n",
    "            if s%2 == 1:\n",
    "                sommet.append(j)\n",
    "            s  = int(s/2)\n",
    "            j += 1\n",
    "        if (len(sommet) == 1): #Couper que le sommet\n",
    "            som = sommet[0] #récupèrer le numéro du sommet\n",
    "            som =  listKeys[som] #récupèrer la clé du sommet \n",
    "            if m == -1 or m > len(g[som]) :\n",
    "                m = len(g[som])\n",
    "                sBest = som\n",
    "        else: #compter le nombre d'arête sortante \n",
    "            #recupèrer la coupe actuel\n",
    "            sActuel = []\n",
    "            for s in sommet:\n",
    "                som = listKeys[s]\n",
    "                for elm in som.split(','):\n",
    "                    sActuel.append(elm)\n",
    "            #compter le nombre d'arête de la coupe actuelle \n",
    "            coupe1 = 0\n",
    "            for s in sommet:\n",
    "                som = listKeys[s]\n",
    "                arete = g[som] #Les successeurs du sommet \n",
    "                for elm in arete:\n",
    "                    if elm not in sActuel:\n",
    "                        coupe1 += 1\n",
    "            if m == -1 or m > coupe1:\n",
    "                m = coupe1 \n",
    "                sBest = ','.join(sActuel) #La coupe minimale\n",
    "        \n",
    "        i += 1\n",
    "    return sBest.split(\",\")\n",
    "                \n",
    "    \n",
    "def kargerStein(g):\n",
    "    m = -1 \n",
    "    if len(list(g.keys())) <= 6:\n",
    "        return calculCoup(g)\n",
    "    else:\n",
    "        t = int( 1 + len( list(g.keys())) / sqrt(2))\n",
    "        g1 = contractionPartielle(g, t)\n",
    "        s1 = kargerStein(g1)\n",
    "        m1 = len(s1)\n",
    "        g2 = contractionPartielle(g, t)\n",
    "        s2 = kargerStein(g2)\n",
    "        m2 = len(s2)\n",
    "        if m1 < m2:\n",
    "            return s1\n",
    "        else:\n",
    "            return s2\n",
    "        "
   ]
  },
  {
   "cell_type": "code",
   "execution_count": 172,
   "id": "5bbfbfd5",
   "metadata": {},
   "outputs": [],
   "source": [
    "#Teste sur des graphes avec un cycles \n",
    "def testGrapheCycle2(listeDesTaille, nbRep): #Elle retourne 2 liste une liste avec les tailles et l'autre les temps correspondant a chaque taille\n",
    "                                #Pour chaque taille de la listeDesTaille elle le fait nbRep fois et elle retourne la moyenne de la taille\n",
    "        \n",
    "        listeTemps = []\n",
    "        listeTaille = []\n",
    "        for i in listeDesTaille:\n",
    "            moyenne = 0\n",
    "            for j in range(nbRep):\n",
    "                g = grapheCycle(i)\n",
    "                debut = time()\n",
    "                kargerStein(g)\n",
    "                tmps = time() - debut\n",
    "                moyenne += tmps\n",
    "            listeTemps.append(moyenne/nbRep)\n",
    "            listeTaille.append(i)\n",
    "        return listeTaille, listeTemps\n",
    "\n",
    "\n",
    "def testGrapheComplet2(listeDesTaille, nbRep):\n",
    "    listeTemps = []\n",
    "    listeTaille = []\n",
    "    for i in listeDesTaille:\n",
    "        moyenne = 0\n",
    "        for j in range(nbRep):\n",
    "            g = grapheComplet(i)\n",
    "            debut = time()\n",
    "            kargerStein(g)\n",
    "            tmps = time() - debut\n",
    "            moyenne += tmps\n",
    "        listeTemps.append(moyenne/nbRep)\n",
    "        listeTaille.append(i)\n",
    "    return listeTaille, listeTemps\n",
    "\n",
    "def testGrapheBipartie2(listeDesTaille, nbRep):\n",
    "    listeTemps = []\n",
    "    listeTaille = []\n",
    "    for i in listeDesTaille:\n",
    "        moyenne = 0\n",
    "        for j in range(nbRep):\n",
    "            g = grapheBipartieComplet(i)\n",
    "            debut = time()\n",
    "            kargerStein(g)\n",
    "            tmps = time() - debut\n",
    "            moyenne += tmps\n",
    "        listeTemps.append(moyenne/nbRep)\n",
    "        listeTaille.append(i)\n",
    "        taille += nbRep\n",
    "    return listeTaille, listeTemps\n",
    "\n",
    "def testGrapheAleatoire3(listeDesTaille, nbRep):\n",
    "    listeTemps = []\n",
    "    listeTaille = []\n",
    "    for i in listeDesTaille:\n",
    "        moyenne = 0\n",
    "        for j in range(nbRep):\n",
    "            g = grapheAleatoir(i)\n",
    "            debut = time()\n",
    "            kargerStein(g)\n",
    "            tmps = time() - debut\n",
    "            moyenne += tmps\n",
    "        listeTemps.append(moyenne/nbRep)\n",
    "        listeTaille.append(i)\n",
    "        taille += nbRep\n",
    "    return listeTaille, listeTemps"
   ]
  },
  {
   "cell_type": "code",
   "execution_count": 198,
   "id": "1cbd0972",
   "metadata": {},
   "outputs": [],
   "source": [
    "def testProba3(graphe, nbTest, tailleCoupe): #Elle prend en pramètre le graphe, le nb de teste a faire et\n",
    "                                              #et la taille de la coupe minimal\n",
    "    taille = tailleCoupe\n",
    "    nbSucces = 0\n",
    "    for i in range(nbTest):\n",
    "        g1 = graphe.copy()\n",
    "        g = kargerStein(g1) # Les deux coupe du format {'som1, som2, ...': [suc1, suc2], 'som1, som2, ...': [suc1, suc2]}\n",
    "        key = ','.join(g)\n",
    "        t = len(g1[key]) #la taille de la coupe\n",
    "        if t == taille:\n",
    "            nbSucces += 1\n",
    "    return nbSucces"
   ]
  },
  {
   "cell_type": "markdown",
   "id": "783497db",
   "metadata": {},
   "source": [
    "Analyse experimentale de la complexité"
   ]
  },
  {
   "cell_type": "code",
   "execution_count": 98,
   "id": "2714fe8b",
   "metadata": {},
   "outputs": [],
   "source": [
    "#Graphe avec cycle\n",
    "N = [10,30,50,70,90,110,130,150]\n",
    "tailleCycle1, tempsCycle1 = testGrapheCycle(N, 20) #Karger\n",
    "tailleCycle2, tempsCycle2 = testGrapheCycle1(N, 20) #Karger iter\n",
    "tailleCycle3, tempsCycle3 = testGrapheCycle2(N, 20) #Karger stein\n"
   ]
  },
  {
   "cell_type": "code",
   "execution_count": 199,
   "id": "515d4059",
   "metadata": {},
   "outputs": [],
   "source": [
    "#Graphe complet\n",
    "N = [10,15,20,25,30,35,40,45]\n",
    "tailleComplet1, tempsComplet1 = testGrapheComplet(N, 20) #Karger\n",
    "tailleComplet2, tempsComplet2 = testGrapheComplet1(N, 20) #Karger iter\n",
    "tailleComplet3, tempsComplet3 = testGrapheComplet2(N, 20) #Karger stein"
   ]
  },
  {
   "cell_type": "markdown",
   "id": "3c0ad5c6",
   "metadata": {},
   "source": [
    "Complexité de kargen"
   ]
  },
  {
   "cell_type": "code",
   "execution_count": 192,
   "id": "47c23402",
   "metadata": {},
   "outputs": [],
   "source": [
    "#Graphe complet\n",
    "N = []\n",
    "i = 10\n",
    "while i <= 50:\n",
    "    N.append(i)\n",
    "    i += 5\n",
    "    \n",
    "tailleComplet3, tempsComplet3 = testGrapheComplet2(N, 10) #Karger stein"
   ]
  },
  {
   "cell_type": "code",
   "execution_count": 193,
   "id": "67652149",
   "metadata": {},
   "outputs": [
    {
     "data": {
      "image/png": "[encoded data removed]",
      "text/plain": [
       "<Figure size 432x288 with 1 Axes>"
      ]
     },
     "metadata": {
      "needs_background": "light"
     },
     "output_type": "display_data"
    }
   ],
   "source": [
    "plt.figure()\n",
    "plt.title('Temps de calcule de kargerStein et kargerIter et karger')\n",
    "plt.xlabel('nombre de sommets du graph')\n",
    "plt.ylabel('Tps d\\'exécution moyen en seconde ')\n",
    "plt.plot(N, tempsComplet3 , label= \"KargerStein\")\n",
    "plt.legend()\n",
    "plt.show()"
   ]
  },
  {
   "cell_type": "markdown",
   "id": "f3f5019d",
   "metadata": {},
   "source": [
    "Comparaison"
   ]
  },
  {
   "cell_type": "code",
   "execution_count": 201,
   "id": "0710a703",
   "metadata": {},
   "outputs": [
    {
     "data": {
      "image/png": "[encoded data removed]",
      "text/plain": [
       "<Figure size 432x288 with 1 Axes>"
      ]
     },
     "metadata": {
      "needs_background": "light"
     },
     "output_type": "display_data"
    },
    {
     "data": {
      "image/png": "[encoded data removed]",
      "text/plain": [
       "<Figure size 432x288 with 1 Axes>"
      ]
     },
     "metadata": {
      "needs_background": "light"
     },
     "output_type": "display_data"
    }
   ],
   "source": [
    "# Comparaison\n",
    "plt.figure()\n",
    "plt.title('Temps de calcule de kargerStein et kargerIter et karger')\n",
    "plt.xlabel('nombre de sommets du graph')\n",
    "plt.ylabel('Tps d\\'exécution en seconde ')\n",
    "plt.plot(tailleCycle1, tempsCycle1, label='karger')\n",
    "plt.plot(tailleCycle2, tempsCycle2, label='KargerIter')\n",
    "plt.plot(tailleCycle3, tempsCycle3 , label= \"KargerStein\")\n",
    "plt.legend()\n",
    "plt.show()\n",
    "\n",
    "# Comparaison\n",
    "plt.figure()\n",
    "plt.title('Temps de calcule de kargerStein et kargerIter et karger')\n",
    "plt.xlabel('nombre de sommets du graph')\n",
    "plt.ylabel('Tps d\\'exécution en seconde ')\n",
    "plt.plot(tailleComplet1, tempsComplet1, label='karger')\n",
    "plt.plot(tailleComplet2, tempsComplet2, label='KargerIter')\n",
    "plt.plot(tailleComplet3, tempsComplet3 , label= \"KargerStein\")\n",
    "plt.legend()\n",
    "plt.show()"
   ]
  },
  {
   "cell_type": "markdown",
   "id": "f9f440cf",
   "metadata": {},
   "source": [
    "On vois que kargerStein prend largement plus de temps pour s'executer "
   ]
  },
  {
   "cell_type": "markdown",
   "id": "dda7ff16",
   "metadata": {},
   "source": [
    "### Analyse de la probalité de succes\n",
    "######## Karger iter avec paramètre 2"
   ]
  },
  {
   "cell_type": "markdown",
   "id": "5c3e657e",
   "metadata": {},
   "source": [
    "##### Sur un graphe bipartie complet"
   ]
  },
  {
   "cell_type": "code",
   "execution_count": 143,
   "id": "138894b4",
   "metadata": {},
   "outputs": [
    {
     "name": "stdout",
     "output_type": "stream",
     "text": [
      "6\n",
      "8\n",
      "10\n",
      "12\n",
      "14\n",
      "16\n",
      "18\n",
      "20\n",
      "22\n",
      "24\n",
      "26\n"
     ]
    }
   ],
   "source": [
    "deb = 6 # La taille du graphe en début\n",
    "listeProbaKarger = []\n",
    "listeProbaKargerIter = []\n",
    "listeProbaKargerStein = []\n",
    "listeTaille = []\n",
    "while deb <= 26:\n",
    "    listeTaille.append(deb)\n",
    "    g = grapheBipartieComplet(deb)\n",
    "    nbSuccesKarger = testProba1(g, 1000, deb/2)\n",
    "    nbSuccesKargerIter = testProba2(g, 1000, deb/2, 2)\n",
    "    nbSuccesKargerStein = testProba3(g, 1000, deb/2)\n",
    "    \n",
    "    listeProbaKarger.append(nbSuccesKarger/1000)\n",
    "    listeProbaKargerIter.append(nbSuccesKargerIter/1000)\n",
    "    listeProbaKargerStein.append(nbSuccesKargerStein/1000)\n",
    "    deb += 2 \n"
   ]
  },
  {
   "cell_type": "code",
   "execution_count": 148,
   "id": "539e63fb",
   "metadata": {},
   "outputs": [
    {
     "data": {
      "image/png": "[encoded data removed]",
      "text/plain": [
       "<Figure size 432x288 with 1 Axes>"
      ]
     },
     "metadata": {
      "needs_background": "light"
     },
     "output_type": "display_data"
    }
   ],
   "source": [
    "# Comparaison\n",
    "plt.figure()\n",
    "plt.title('Temps de calcule de kargerStein et kargerIter et karger')\n",
    "plt.xlabel('nombre de sommets du graph')\n",
    "plt.ylabel('Tps d\\'exécution en seconde ')\n",
    "plt.plot(listeTaille, listeProbaKarger,  label='karger')\n",
    "plt.plot(listeTaille, listeProbaKargerIter,  label='KargerIter')\n",
    "plt.plot(listeTaille, listeProbaKargerStein,  label= \"KargerStein\")\n",
    "plt.legend()\n",
    "plt.show()"
   ]
  },
  {
   "cell_type": "markdown",
   "id": "af8048be",
   "metadata": {},
   "source": [
    "##### Sur un graphe complet"
   ]
  },
  {
   "cell_type": "code",
   "execution_count": 149,
   "id": "eb942463",
   "metadata": {},
   "outputs": [
    {
     "name": "stdout",
     "output_type": "stream",
     "text": [
      "10\n",
      "12\n",
      "14\n",
      "16\n",
      "18\n",
      "20\n"
     ]
    },
    {
     "data": {
      "image/png": "[encoded data removed]",
      "text/plain": [
       "<Figure size 432x288 with 1 Axes>"
      ]
     },
     "metadata": {
      "needs_background": "light"
     },
     "output_type": "display_data"
    }
   ],
   "source": [
    "deb = 10 # La taille du graphe en début\n",
    "listeProbaKarger1 = []\n",
    "listeProbaKargerIter1 = []\n",
    "listeProbaKargerStein1 = []\n",
    "listeTaille1 = []\n",
    "while deb <= 20:\n",
    "    listeTaille1.append(deb)\n",
    "    g = grapheComplet(deb)\n",
    "    nbSuccesKarger = testProba1(g, 1000, deb - 1)\n",
    "    nbSuccesKargerIter = testProba2(g, 1000, deb - 1, 2)\n",
    "    nbSuccesKargerStein = testProba3(g, 1000, deb -1)\n",
    "    \n",
    "    listeProbaKarger1.append(nbSuccesKarger/1000)\n",
    "    listeProbaKargerIter1.append(nbSuccesKargerIter/1000)\n",
    "    listeProbaKargerStein1.append(nbSuccesKargerStein/1000)\n",
    "    print(deb)\n",
    "    deb += 2\n",
    "    \n",
    "# Comparaison\n",
    "plt.figure()\n",
    "plt.title('Temps de calcule de kargerStein et kargerIter et karger')\n",
    "plt.xlabel('nombre de sommets du graph')\n",
    "plt.ylabel('Tps d\\'exécution en seconde ')\n",
    "plt.plot(listeTaille1, listeProbaKarger1, label='karger')\n",
    "plt.plot(listeTaille1, listeProbaKargerIter1, label='KargerIter')\n",
    "plt.plot(listeTaille1, listeProbaKargerStein1, label= \"KargerStein\")\n",
    "plt.legend()\n",
    "plt.show()"
   ]
  },
  {
   "cell_type": "markdown",
   "id": "4e7adc32",
   "metadata": {},
   "source": [
    "On voie bien que kargerStein prend plus de temps mais elle retourne presque toujours une coupe minimale"
   ]
  },
  {
   "cell_type": "code",
   "execution_count": null,
   "id": "07c2f2d8",
   "metadata": {},
   "outputs": [],
   "source": []
  }
 ],
 "metadata": {
  "kernelspec": {
   "display_name": "Python 3",
   "language": "python",
   "name": "python3"
  },
  "language_info": {
   "codemirror_mode": {
    "name": "ipython",
    "version": 3
   },
   "file_extension": ".py",
   "mimetype": "text/x-python",
   "name": "python",
   "nbconvert_exporter": "python",
   "pygments_lexer": "ipython3",
   "version": "3.9.15"
  },
  "vscode": {
   "interpreter": {
    "hash": "36cf16204b8548560b1c020c4e8fb5b57f0e4c58016f52f2d4be01e192833930"
   }
  }
 },
 "nbformat": 4,
 "nbformat_minor": 5
}
