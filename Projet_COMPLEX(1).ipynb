{
 "cells": [
  {
   "cell_type": "markdown",
   "id": "cef0d180-239e-4433-92e7-00d43c659be7",
   "metadata": {},
   "source": [
    "# Exercice 1"
   ]
  },
  {
   "cell_type": "code",
   "execution_count": 1,
   "id": "bb20da73-f5d9-4743-8bff-a8f8b8680ae9",
   "metadata": {},
   "outputs": [],
   "source": [
    "import numpy as np\n",
    "from random import *\n",
    "import time\n",
    "import matplotlib.pyplot as plt"
   ]
  },
  {
   "cell_type": "markdown",
   "id": "7552ec91-639f-485b-8fd7-ecb7712826ac",
   "metadata": {},
   "source": [
    "## Question 1.a\n",
    "On va considérer des arrays 2D pour représenter la matrice d'adjacence. Ainsi pour un graph à N noeuds, la matrice d'adjacence sera de taille NxN, et chaque valeur à la coordonnée (x,y) représente le nombre d'arêtes entre les noeuds x et y. Les graphes étant non orientés; cette matrice est donc symétrique.\n",
    "Voici un éxemple de définition suivant cette structure :\n",
    "```\n",
    "                 # x1 x2 x3 x4 x5 x6\n",
    "                 \n",
    "Graph = np.array([[0, 1, 0, 0, 0, 0],     # y1\n",
    "                  [1, 0, 1, 0, 1, 0],     # y2\n",
    "                  [0, 1, 0, 1, 1, 0],     # y3\n",
    "                  [0, 0, 1, 0, 0, 1],     # y4\n",
    "                  [0, 1, 1, 0, 0, 1],     # y5\n",
    "                  [0, 0, 0, 1, 1, 0]])    # y6\n",
    "```\n",
    "\n",
    "Pour effectuer la constraction de deux sommets, on va considerer que l'on en isole un (par exmple y) et on ajoute tous les liens du noeud isolé au noeud restant (par exemple x)."
   ]
  },
  {
   "cell_type": "code",
   "execution_count": 2,
   "id": "51e42921",
   "metadata": {},
   "outputs": [],
   "source": [
    "def contraction(G, e):\n",
    "    # récupération des indice des deux sommets à fusionner\n",
    "    x,y = e\n",
    "        \n",
    "    # récupération du nombre d'arêtes entre y et chaque autre sommet\n",
    "    fus_l = G[y,:]\n",
    "\n",
    "    # on met à jour le sommet x en ajoutant les relations de y\n",
    "    G[x,:] += fus_l\n",
    "    G[:,x] += fus_l\n",
    "    \n",
    "    # on ne considère pas les arête auto-référentes\n",
    "    G[x,x] = 0\n",
    "    \n",
    "    # on \"isole\" le sommet y en mettant ses lignes et colonnes correspondantes à 0\n",
    "    G[y,:] = np.zeros(len(G))\n",
    "    G[:,y] = np.zeros(len(G))\n",
    "    \n",
    "    # on renvoie le nouveau graph ainsi que le sommet isolé\n",
    "    return G, y\n"
   ]
  },
  {
   "cell_type": "markdown",
   "id": "dbeaaf29-58be-4f08-9977-7d8262bc312e",
   "metadata": {},
   "source": [
    "## Question 1.b"
   ]
  },
  {
   "cell_type": "markdown",
   "id": "dd6f1d00-f52f-4321-a6a8-cf9f1e3efe57",
   "metadata": {},
   "source": [
    "### Graphes Complets"
   ]
  },
  {
   "cell_type": "code",
   "execution_count": 29,
   "id": "23fdce66",
   "metadata": {},
   "outputs": [],
   "source": [
    "tps_complet = []\n",
    "N = [100,150,200,250,500,1000,1500,2000]\n",
    "\n",
    "for n in N:\n",
    "    tps_N = []\n",
    "    # tirage aléatoire de 2 sommets à fusionner\n",
    "    # toutes les instances de graph pour ce n fusionnerons les deux mêmes sommets\n",
    "    e = (np.random.randint(n),np.random.randint(n))\n",
    "    \n",
    "    for i in range(1000):\n",
    "        # création de la matrice d'un graph complet de taille n\n",
    "        G = np.ones((n,n))\n",
    "        G = G - np.eye(n)\n",
    "        \n",
    "        # Calcul du temps d'execution\n",
    "        debut = time.time()\n",
    "        G, y = contraction(G,e)\n",
    "        fin = time.time()\n",
    "        \n",
    "        # stockage des temps d'exécution pour ce n\n",
    "        tps_N.append(fin-debut)\n",
    "    \n",
    "    # stockage de la moyenne des temps d'exécution pour chaque n\n",
    "    tps_complet.append(np.mean(tps_N))\n"
   ]
  },
  {
   "cell_type": "markdown",
   "id": "0d85a637-f17b-4ba3-88d0-12aabac7827d",
   "metadata": {},
   "source": [
    "### Graphes à Cycles"
   ]
  },
  {
   "cell_type": "code",
   "execution_count": 31,
   "id": "e22e6b49",
   "metadata": {},
   "outputs": [],
   "source": [
    "tps_cycle = []\n",
    "N = [100,150,200,250,500,1000,1500,2000]\n",
    "\n",
    "for n in N:\n",
    "    tps_N = []\n",
    "    # tirage aléatoire de 2 sommets à fusionner\n",
    "    # toutes les instances de graph pour ce n fusionnerons les deux mêmes sommets\n",
    "    e = (np.random.randint(n),np.random.randint(n))\n",
    "    \n",
    "    for i in range(1000):\n",
    "        # création de la matrice d'un graph à cycle de taille n\n",
    "        G = np.zeros((n,n))\n",
    "        np.fill_diagonal(G[:,1:], 1)\n",
    "        G[-1,0] = 1\n",
    "        \n",
    "        # Calcul du temps d'execution\n",
    "        debut = time.time()\n",
    "        G, y = contraction(G,e)\n",
    "        fin = time.time()\n",
    "        \n",
    "        # stockage des temps d'exécution pour ce n\n",
    "        tps_N.append(fin-debut)\n",
    "    \n",
    "    # stockage de la moyenne des temps d'exécution pour chaque n\n",
    "    tps_cycle.append(np.mean(tps_N))\n"
   ]
  },
  {
   "cell_type": "markdown",
   "id": "3d467613-0201-4d8c-85fc-6d6da6188ec5",
   "metadata": {},
   "source": [
    "### Graphes construits par Proba"
   ]
  },
  {
   "cell_type": "code",
   "execution_count": 32,
   "id": "bb45a879",
   "metadata": {},
   "outputs": [],
   "source": [
    "tps_proba = []\n",
    "N = [100,150,200,250,500,1000,1500,2000]\n",
    "\n",
    "for n in N:\n",
    "    tps_N = []\n",
    "    # tirage aléatoire de 2 sommets à fusionner\n",
    "    # toutes les instances de graph pour ce n fusionnerons les deux mêmes sommets\n",
    "    e = (np.random.randint(n),np.random.randint(n))\n",
    "    \n",
    "    for i in range(1000):\n",
    "        # création de la matrice du graph aléatoire\n",
    "        G = np.random.randint(2, size = (n,n))\n",
    "        \n",
    "        # Calcul du temps d'execution\n",
    "        debut = time.time()\n",
    "        G, y = contraction(G,e)\n",
    "        fin = time.time()\n",
    "        \n",
    "        # stockage des temps d'exécution pour ce n\n",
    "        tps_N.append(fin-debut)\n",
    "    \n",
    "    # stockage de la moyenne des temps d'exécution pour chaque n\n",
    "    tps_proba.append(np.mean(tps_N))\n"
   ]
  },
  {
   "cell_type": "code",
   "execution_count": 34,
   "id": "2f852fc5-83ec-47e4-b2c6-7f59c28d6725",
   "metadata": {},
   "outputs": [
    {
     "data": {
      "image/png": "[encoded data removed]",
      "text/plain": [
       "<Figure size 432x288 with 1 Axes>"
      ]
     },
     "metadata": {
      "needs_background": "light"
     },
     "output_type": "display_data"
    }
   ],
   "source": [
    "# Visualisation plus pratique\n",
    "plt.figure()\n",
    "plt.title('Log Complexité (contraction)')\n",
    "plt.xlabel('nombre de sommets du graph (log)')\n",
    "plt.ylabel('Tps d\\'exécution en seconde (log)')\n",
    "plt.plot(N[1:], tps_complet[1:], label='Graph complet')\n",
    "plt.plot(N[1:], tps_cycle[1:], label='Graph à cycle')\n",
    "plt.plot(N[1:], tps_proba[1:], label='Graph à proba')\n",
    "plt.legend()\n",
    "plt.show()"
   ]
  },
  {
   "cell_type": "code",
   "execution_count": 35,
   "id": "c9be93ab-a5dd-4561-85ea-8b197870a2ef",
   "metadata": {},
   "outputs": [],
   "source": [
    "# ANALYSE"
   ]
  },
  {
   "cell_type": "markdown",
   "id": "233870ca-88c9-4225-9da7-c07fae9537d8",
   "metadata": {},
   "source": [
    "## Question 1.c\n",
    "\n",
    "Nous cherchons tirer aléatoirement une arête parmi toutes celles existance dans notre graphe. Une idée pour nous permettre de le faire serait de définir les probabilités de tirer un sommet précis en connaissant le nombre d'arête relié à chacun. Nous pourrions ainsi pondérer la probabilité de tirer un couple de sommet.\n",
    "\n",
    "Nous allons pour cela sommer sur les lignes (ou les colonnes) les valeurs de la matrice d'adjacence. Nous avons ainsi un vecteur stockant le nombre d'arêtes partant de chaque sommet. Pour obtenir une probabilité, nous devons normaliser en divisant par la somme du nombre d'arêtes, divisée par deux (graph non orienté).\n",
    "\n",
    "Le graphe étant non orienté et la matrice d'adjacence étant symétrique, l'axe sur lequel nous effectuons l'opération n'a pas de réelle importance."
   ]
  },
  {
   "cell_type": "code",
   "execution_count": 36,
   "id": "625a50a6",
   "metadata": {},
   "outputs": [],
   "source": [
    "def selectRandom(G):\n",
    "    n = len(G)\n",
    "    # calcul de la proba de choisir un arc relié à un certain sommet\n",
    "    proba = ( np.sum(G, axis = 0)/(np.sum(G)) ).tolist()\n",
    "    \n",
    "    # tirage aléatoire\n",
    "    x = np.random.choice(n, p=proba)\n",
    "    y = np.random.choice(n, p=proba)\n",
    "    \n",
    "    # on continue de tier si jamais on a tirer un couple de sommet non reliés\n",
    "    while (G[x,y]==0):\n",
    "        x = np.random.choice(n, p=proba)\n",
    "        y = np.random.choice(n, p=proba)\n",
    "                \n",
    "    return x,y"
   ]
  },
  {
   "cell_type": "code",
   "execution_count": 37,
   "id": "541b587c",
   "metadata": {},
   "outputs": [],
   "source": [
    "def karger(G):\n",
    "    V = [*range(len(G))]\n",
    "    S = []\n",
    "    \n",
    "    while len(V) > 2:\n",
    "        e = selectRandom(G)\n",
    "        \n",
    "        G ,y = contraction(G,e)\n",
    "        \n",
    "        V.remove(y)\n",
    "        S.append(y)\n",
    "        \n",
    "    return S\n",
    "    "
   ]
  },
  {
   "cell_type": "code",
   "execution_count": 38,
   "id": "d88629d2",
   "metadata": {},
   "outputs": [
    {
     "name": "stdout",
     "output_type": "stream",
     "text": [
      "[[0 1 0 0 0 0]\n",
      " [1 0 1 0 1 0]\n",
      " [0 1 0 1 1 0]\n",
      " [0 0 1 0 0 1]\n",
      " [0 1 1 0 0 1]\n",
      " [0 0 0 1 1 0]]\n",
      "[4, 2, 5, 1]\n"
     ]
    }
   ],
   "source": [
    "G1 = np.array([[0,1,0,0,0,0],\n",
    "               [1,0,1,0,1,0],\n",
    "               [0,1,0,1,1,0],\n",
    "               [0,0,1,0,0,1],\n",
    "               [0,1,1,0,0,1],\n",
    "               [0,0,0,1,1,0]])\n",
    "\n",
    "print(G1)\n",
    "print(karger(G1))"
   ]
  },
  {
   "cell_type": "markdown",
   "id": "112ccddf-4d0c-4fef-98ce-cdf4adb9cdfe",
   "metadata": {},
   "source": [
    "## Question 1.d"
   ]
  },
  {
   "cell_type": "markdown",
   "id": "95374c84-3353-4609-8358-c511eb4b7844",
   "metadata": {},
   "source": [
    "### Graphes Complets"
   ]
  },
  {
   "cell_type": "code",
   "execution_count": 41,
   "id": "851865ae",
   "metadata": {},
   "outputs": [],
   "source": [
    "tps_complet_karger = []\n",
    "N = [100,150,200,250,500,1000]\n",
    "\n",
    "for n in N:\n",
    "    tps_N = []\n",
    "    \n",
    "    for i in range(100):\n",
    "        # création de la matrice d'un graph complet de taille n\n",
    "        G = np.ones((n,n))\n",
    "        G = G - np.eye(n)\n",
    "        \n",
    "        # Calcul du temps d'execution\n",
    "        debut = time.time()\n",
    "        S = karger(G)\n",
    "        fin = time.time()\n",
    "        \n",
    "        # stockage des temps d'exécution pour ce n\n",
    "        tps_N.append(fin-debut)\n",
    "    \n",
    "    # stockage de la moyenne des temps d'exécution pour chaque n\n",
    "    tps_complet_karger.append(np.mean(tps_N))\n"
   ]
  },
  {
   "cell_type": "markdown",
   "id": "33348f3f-f685-4c48-8135-229a8ddfacd2",
   "metadata": {},
   "source": [
    "### Graphes à Cycles"
   ]
  },
  {
   "cell_type": "code",
   "execution_count": 45,
   "id": "84375505",
   "metadata": {},
   "outputs": [
    {
     "ename": "KeyboardInterrupt",
     "evalue": "",
     "output_type": "error",
     "traceback": [
      "\u001b[0;31m---------------------------------------------------------------------------\u001b[0m",
      "\u001b[0;31mKeyboardInterrupt\u001b[0m                         Traceback (most recent call last)",
      "\u001b[0;32m<ipython-input-45-d2e6c1ce4ab5>\u001b[0m in \u001b[0;36m<module>\u001b[0;34m\u001b[0m\n\u001b[1;32m     13\u001b[0m         \u001b[0;31m# Calcul du temps d'execution\u001b[0m\u001b[0;34m\u001b[0m\u001b[0;34m\u001b[0m\u001b[0;34m\u001b[0m\u001b[0m\n\u001b[1;32m     14\u001b[0m         \u001b[0mdebut\u001b[0m \u001b[0;34m=\u001b[0m \u001b[0mtime\u001b[0m\u001b[0;34m.\u001b[0m\u001b[0mtime\u001b[0m\u001b[0;34m(\u001b[0m\u001b[0;34m)\u001b[0m\u001b[0;34m\u001b[0m\u001b[0;34m\u001b[0m\u001b[0m\n\u001b[0;32m---> 15\u001b[0;31m         \u001b[0mS\u001b[0m \u001b[0;34m=\u001b[0m \u001b[0mkarger\u001b[0m\u001b[0;34m(\u001b[0m\u001b[0mG\u001b[0m\u001b[0;34m)\u001b[0m\u001b[0;34m\u001b[0m\u001b[0;34m\u001b[0m\u001b[0m\n\u001b[0m\u001b[1;32m     16\u001b[0m         \u001b[0mfin\u001b[0m \u001b[0;34m=\u001b[0m \u001b[0mtime\u001b[0m\u001b[0;34m.\u001b[0m\u001b[0mtime\u001b[0m\u001b[0;34m(\u001b[0m\u001b[0;34m)\u001b[0m\u001b[0;34m\u001b[0m\u001b[0;34m\u001b[0m\u001b[0m\n\u001b[1;32m     17\u001b[0m \u001b[0;34m\u001b[0m\u001b[0m\n",
      "\u001b[0;32m<ipython-input-37-2b8e01e2577c>\u001b[0m in \u001b[0;36mkarger\u001b[0;34m(G)\u001b[0m\n\u001b[1;32m      4\u001b[0m \u001b[0;34m\u001b[0m\u001b[0m\n\u001b[1;32m      5\u001b[0m     \u001b[0;32mwhile\u001b[0m \u001b[0mlen\u001b[0m\u001b[0;34m(\u001b[0m\u001b[0mV\u001b[0m\u001b[0;34m)\u001b[0m \u001b[0;34m>\u001b[0m \u001b[0;36m2\u001b[0m\u001b[0;34m:\u001b[0m\u001b[0;34m\u001b[0m\u001b[0;34m\u001b[0m\u001b[0m\n\u001b[0;32m----> 6\u001b[0;31m         \u001b[0me\u001b[0m \u001b[0;34m=\u001b[0m \u001b[0mselectRandom\u001b[0m\u001b[0;34m(\u001b[0m\u001b[0mG\u001b[0m\u001b[0;34m)\u001b[0m\u001b[0;34m\u001b[0m\u001b[0;34m\u001b[0m\u001b[0m\n\u001b[0m\u001b[1;32m      7\u001b[0m \u001b[0;34m\u001b[0m\u001b[0m\n\u001b[1;32m      8\u001b[0m         \u001b[0mG\u001b[0m \u001b[0;34m,\u001b[0m\u001b[0my\u001b[0m \u001b[0;34m=\u001b[0m \u001b[0mcontraction\u001b[0m\u001b[0;34m(\u001b[0m\u001b[0mG\u001b[0m\u001b[0;34m,\u001b[0m\u001b[0me\u001b[0m\u001b[0;34m)\u001b[0m\u001b[0;34m\u001b[0m\u001b[0;34m\u001b[0m\u001b[0m\n",
      "\u001b[0;32m<ipython-input-36-dacd1ace2e1c>\u001b[0m in \u001b[0;36mselectRandom\u001b[0;34m(G)\u001b[0m\n\u001b[1;32m     10\u001b[0m     \u001b[0;31m# on continue de tier si jamais on a tirer un couple de sommet non reliés\u001b[0m\u001b[0;34m\u001b[0m\u001b[0;34m\u001b[0m\u001b[0;34m\u001b[0m\u001b[0m\n\u001b[1;32m     11\u001b[0m     \u001b[0;32mwhile\u001b[0m \u001b[0;34m(\u001b[0m\u001b[0mG\u001b[0m\u001b[0;34m[\u001b[0m\u001b[0mx\u001b[0m\u001b[0;34m,\u001b[0m\u001b[0my\u001b[0m\u001b[0;34m]\u001b[0m\u001b[0;34m==\u001b[0m\u001b[0;36m0\u001b[0m\u001b[0;34m)\u001b[0m\u001b[0;34m:\u001b[0m\u001b[0;34m\u001b[0m\u001b[0;34m\u001b[0m\u001b[0m\n\u001b[0;32m---> 12\u001b[0;31m         \u001b[0mx\u001b[0m \u001b[0;34m=\u001b[0m \u001b[0mnp\u001b[0m\u001b[0;34m.\u001b[0m\u001b[0mrandom\u001b[0m\u001b[0;34m.\u001b[0m\u001b[0mchoice\u001b[0m\u001b[0;34m(\u001b[0m\u001b[0mn\u001b[0m\u001b[0;34m,\u001b[0m \u001b[0mp\u001b[0m\u001b[0;34m=\u001b[0m\u001b[0mproba\u001b[0m\u001b[0;34m)\u001b[0m\u001b[0;34m\u001b[0m\u001b[0;34m\u001b[0m\u001b[0m\n\u001b[0m\u001b[1;32m     13\u001b[0m         \u001b[0my\u001b[0m \u001b[0;34m=\u001b[0m \u001b[0mnp\u001b[0m\u001b[0;34m.\u001b[0m\u001b[0mrandom\u001b[0m\u001b[0;34m.\u001b[0m\u001b[0mchoice\u001b[0m\u001b[0;34m(\u001b[0m\u001b[0mn\u001b[0m\u001b[0;34m,\u001b[0m \u001b[0mp\u001b[0m\u001b[0;34m=\u001b[0m\u001b[0mproba\u001b[0m\u001b[0;34m)\u001b[0m\u001b[0;34m\u001b[0m\u001b[0;34m\u001b[0m\u001b[0m\n\u001b[1;32m     14\u001b[0m \u001b[0;34m\u001b[0m\u001b[0m\n",
      "\u001b[0;32mmtrand.pyx\u001b[0m in \u001b[0;36mnumpy.random.mtrand.RandomState.choice\u001b[0;34m()\u001b[0m\n",
      "\u001b[0;32m/usr/lib/python3/dist-packages/numpy/core/getlimits.py\u001b[0m in \u001b[0;36m__new__\u001b[0;34m(cls, dtype)\u001b[0m\n\u001b[1;32m    365\u001b[0m     \u001b[0;32mdef\u001b[0m \u001b[0m__new__\u001b[0m\u001b[0;34m(\u001b[0m\u001b[0mcls\u001b[0m\u001b[0;34m,\u001b[0m \u001b[0mdtype\u001b[0m\u001b[0;34m)\u001b[0m\u001b[0;34m:\u001b[0m\u001b[0;34m\u001b[0m\u001b[0;34m\u001b[0m\u001b[0m\n\u001b[1;32m    366\u001b[0m         \u001b[0;32mtry\u001b[0m\u001b[0;34m:\u001b[0m\u001b[0;34m\u001b[0m\u001b[0;34m\u001b[0m\u001b[0m\n\u001b[0;32m--> 367\u001b[0;31m             \u001b[0mdtype\u001b[0m \u001b[0;34m=\u001b[0m \u001b[0mnumeric\u001b[0m\u001b[0;34m.\u001b[0m\u001b[0mdtype\u001b[0m\u001b[0;34m(\u001b[0m\u001b[0mdtype\u001b[0m\u001b[0;34m)\u001b[0m\u001b[0;34m\u001b[0m\u001b[0;34m\u001b[0m\u001b[0m\n\u001b[0m\u001b[1;32m    368\u001b[0m         \u001b[0;32mexcept\u001b[0m \u001b[0mTypeError\u001b[0m\u001b[0;34m:\u001b[0m\u001b[0;34m\u001b[0m\u001b[0;34m\u001b[0m\u001b[0m\n\u001b[1;32m    369\u001b[0m             \u001b[0;31m# In case a float instance was given\u001b[0m\u001b[0;34m\u001b[0m\u001b[0;34m\u001b[0m\u001b[0;34m\u001b[0m\u001b[0m\n",
      "\u001b[0;31mKeyboardInterrupt\u001b[0m: "
     ]
    }
   ],
   "source": [
    "tps_cycle_karger = []\n",
    "N = [100,150,200,250,500,1000]\n",
    "\n",
    "for n in N:\n",
    "    tps_N = []\n",
    "    \n",
    "    for i in range(100):\n",
    "        # création de la matrice d'un graph à cycle de taille n\n",
    "        G = np.zeros((n,n))\n",
    "        np.fill_diagonal(G[:,1:], 1)\n",
    "        G[-1,0] = 1\n",
    "        \n",
    "        # Calcul du temps d'execution\n",
    "        debut = time.time()\n",
    "        S = karger(G)\n",
    "        fin = time.time()\n",
    "        \n",
    "        # stockage des temps d'exécution pour ce n\n",
    "        tps_N.append(fin-debut)\n",
    "    \n",
    "    # stockage de la moyenne des temps d'exécution pour chaque n\n",
    "    tps_cycle_karger.append(np.mean(tps_N))\n"
   ]
  },
  {
   "cell_type": "markdown",
   "id": "e8761af0-19ec-4fb6-a227-48b1e37c7b92",
   "metadata": {},
   "source": [
    "### Graphes Proba"
   ]
  },
  {
   "cell_type": "code",
   "execution_count": 44,
   "id": "507faeb8-8f33-441d-8869-1c185442fb15",
   "metadata": {},
   "outputs": [],
   "source": [
    "tps_proba_karger = []\n",
    "N = [100,150,200,250,500,1000]\n",
    "\n",
    "for n in N:\n",
    "    tps_N = []\n",
    "    \n",
    "    for i in range(100):\n",
    "        # création de la matrice du graph aléatoire\n",
    "        G = np.random.randint(2, size = (n,n))\n",
    "        \n",
    "        # Calcul du temps d'execution\n",
    "        debut = time.time()\n",
    "        S = karger(G)\n",
    "        fin = time.time()\n",
    "        \n",
    "        # stockage des temps d'exécution pour ce n\n",
    "        tps_N.append(fin-debut)\n",
    "    \n",
    "    # stockage de la moyenne des temps d'exécution pour chaque n\n",
    "    tps_proba_karger.append(np.mean(tps_N))\n"
   ]
  },
  {
   "cell_type": "code",
   "execution_count": null,
   "id": "abfc596a-fb3b-4f51-822d-7cfd0b2f8616",
   "metadata": {},
   "outputs": [],
   "source": [
    "# Visualisation plus pratique\n",
    "plt.figure()\n",
    "plt.title('Log complexité de Karger')\n",
    "plt.xlabel('nombre de sommets du graph (log)')\n",
    "plt.ylabel('Tps d\\'exécution en seconde (log)')\n",
    "plt.plot(np.log(N), np.log(tps_complet_karger), label='Graph complet')\n",
    "plt.plot(np.log(N), np.log(tps_cycle_karger), label='Graph à cycle')\n",
    "plt.plot(np.log(N), np.log(tps_proba_karger), label='Graph à proba')\n",
    "plt.legend()\n",
    "plt.show()"
   ]
  },
  {
   "cell_type": "code",
   "execution_count": null,
   "id": "a4dbc500-ffb0-4be2-8639-20ef3aeb2656",
   "metadata": {},
   "outputs": [],
   "source": []
  },
  {
   "cell_type": "markdown",
   "id": "ce65222d-9ffc-40ac-b2d8-c55f440b3312",
   "metadata": {},
   "source": [
    "## Question 1.e"
   ]
  },
  {
   "cell_type": "code",
   "execution_count": null,
   "id": "76c64ab6-d1e6-46dc-b6b3-0e8e241a1d17",
   "metadata": {},
   "outputs": [],
   "source": [
    "def contraction2(g, arete):\n",
    "    i, j = arete  #les deux sommets de l'arête \n",
    "    noeud = i + \",\" + j #le nouveau sommet\n",
    "    g[noeud] = [] #la liste des successeur du sommet \n",
    "    #O(n)\n",
    "    for elm in g[i]:\n",
    "        if elm not in i.split(',') and elm not in j.split(','):\n",
    "            g[noeud].append(elm)\n",
    "    #O(n)\n",
    "    for elm in g[j]:\n",
    "        if elm not in i.split(',') and elm not in j.split(','):\n",
    "            g[noeud].append(elm)\n",
    "    \n",
    "    del g[i] \n",
    "    del g[j]\n",
    "    return g"
   ]
  },
  {
   "cell_type": "markdown",
   "id": "a6d2b654-104d-4293-ae73-44c234cea84e",
   "metadata": {},
   "source": [
    "## Question 1.f"
   ]
  },
  {
   "cell_type": "code",
   "execution_count": null,
   "id": "a750f060-9369-465f-ad9d-12bb1f565b31",
   "metadata": {},
   "outputs": [],
   "source": [
    "#Chaque sommet existe dans le dictionnaire exactement le nombre de fois ou elle est relier par une arête \n",
    "##On construit une liste qui est la concatination de toutes les liste du dictionaire on note LISTE\n",
    "####Sa complexiter est O(n) \n",
    "## 1 - on tire un sommet aléatoir dans la liste LIST on note S \n",
    "#  2 - on tire un autre sommet aléatoir de la liste du sommet S \n",
    "def randomSommet(g):\n",
    "    liste = []\n",
    "    #O(n)\n",
    "    for elm in g.keys():\n",
    "        liste += list(g[elm])\n",
    "    \n",
    "    i = randint(0, len(liste)-1)\n",
    "    s1 = liste[i]\n",
    "    s2 = -1\n",
    "    if s1 in g:\n",
    "        i = randint(0, len(g[s1])-1)\n",
    "        s2 = g[s1][i]\n",
    "    else:\n",
    "        l = list(g.keys())\n",
    "        #O(n)\n",
    "        for elm in l:\n",
    "            e = elm.split(',')\n",
    "            if s1 in e:\n",
    "                i = randint(0, len(g[elm]) - 1)\n",
    "                s1 = elm\n",
    "                s2 = g[elm][i]\n",
    "                break\n",
    "    \n",
    "    l = list(g.keys())    \n",
    "    if s2 not in g:\n",
    "        #O(n)\n",
    "        for elm in l:\n",
    "            e = elm.split(',')\n",
    "            if s2 in e:\n",
    "                s2 = elm\n",
    "                break\n",
    "    return (s1, s2)"
   ]
  },
  {
   "cell_type": "markdown",
   "id": "26958b33-fd49-494f-a46d-2da32511f93d",
   "metadata": {},
   "source": [
    "## Question 1.g"
   ]
  },
  {
   "cell_type": "code",
   "execution_count": null,
   "id": "1ce69143-0aee-49ff-808f-a65c102895cf",
   "metadata": {},
   "outputs": [],
   "source": [
    "def karger2(g):\n",
    "    while len(g.keys()) > 2:\n",
    "        arete = randomSommet(g)\n",
    "        g = contraction(g, arete) \n",
    "    return g\n",
    "\n",
    "# Analyse"
   ]
  },
  {
   "cell_type": "markdown",
   "id": "27d93ad3-acbf-4546-b19f-ab71a769aba5",
   "metadata": {},
   "source": [
    "## Question 1.h"
   ]
  },
  {
   "cell_type": "code",
   "execution_count": null,
   "id": "245259c3-20a8-456e-b163-2dd6e1b027e0",
   "metadata": {},
   "outputs": [],
   "source": [
    "\n",
    " \n",
    "#graphe aleatoire \n",
    "def grapheAleatoir(taille):\n",
    "    g = dict()\n",
    "    i = 1\n",
    "    while i < taille:\n",
    "        if str(i) not in list(g.keys()):\n",
    "            g[str(i)] = []\n",
    "        j = i + 1\n",
    "        while j <= taille:\n",
    "            if randint(0,1) == 1:\n",
    "                g[str(i)].append(str(j))\n",
    "                if str(j) not in list(g.keys()):\n",
    "                    g[str(j)] = []\n",
    "                g[str(j)].append(str(i))\n",
    "                    \n",
    "                \n",
    "            j += 1\n",
    "        i += 1\n",
    "        \n",
    "    return g"
   ]
  },
  {
   "cell_type": "code",
   "execution_count": null,
   "id": "233379d2-aa86-4575-b7df-d3757fc43f7d",
   "metadata": {},
   "outputs": [],
   "source": [
    "print(grapheCycle(5))\n",
    "print(grapheComplet(5))\n",
    "print(grapheBipartieComplet(5))\n",
    "print(grapheAleatoir(5))"
   ]
  },
  {
   "cell_type": "markdown",
   "id": "902d221d-d69d-4be9-96c2-12868fab8df4",
   "metadata": {},
   "source": [
    "### Graphes Complets"
   ]
  },
  {
   "cell_type": "code",
   "execution_count": null,
   "id": "ed326203-374b-4924-ae34-7b71d26863cf",
   "metadata": {},
   "outputs": [],
   "source": [
    "#grapheComplet\n",
    "def grapheComplet(taille):\n",
    "    g = dict()\n",
    "    #la liste de tous les sommets \n",
    "    liste = []\n",
    "    i = 1\n",
    "    while i <= taille:\n",
    "        liste.append(str(i))\n",
    "        i += 1\n",
    "    \n",
    "    i = 1\n",
    "    while i <= taille:\n",
    "        liste1 = liste.copy()\n",
    "        liste1.remove(str(i))\n",
    "        g[str(i)] = liste1 \n",
    "        i += 1\n",
    "    return g\n",
    "\n",
    "# test\n",
    "tps_complet_karger2 = []\n",
    "N = [10,20,50,100,250,500,1000]\n",
    "\n",
    "for n in N:\n",
    "    tps_N = []\n",
    "    \n",
    "    for i in range(100):\n",
    "        # création de la matrice d'un graph complet de taille n\n",
    "        G = grapheComplet(n)\n",
    "        \n",
    "        # Calcul du temps d'execution\n",
    "        debut = time.time()\n",
    "        g = karger(G)\n",
    "        fin = time.time()\n",
    "        \n",
    "        # stockage des temps d'exécution pour ce n\n",
    "        tps_N.append(fin-debut)\n",
    "    \n",
    "    # stockage de la moyenne des temps d'exécution pour chaque n\n",
    "    tps_complet_karger2.append(np.mean(tps_N))\n"
   ]
  },
  {
   "cell_type": "markdown",
   "id": "edc7bca5-fb75-40c8-bc32-b3e66579e112",
   "metadata": {},
   "source": [
    "### Graphes à Cycles"
   ]
  },
  {
   "cell_type": "code",
   "execution_count": null,
   "id": "9c133d4b-9b10-4445-88bb-1904f816441a",
   "metadata": {},
   "outputs": [],
   "source": [
    "#Graphe avec cycle\n",
    "def grapheCycle(taille):\n",
    "    g = dict()\n",
    "    i = 1 \n",
    "    while i < taille:\n",
    "        g[str(i)] = [str(i+1)]\n",
    "        i += 1\n",
    "    g[str(taille)] = [str(1)]\n",
    "    i = taille\n",
    "    while i > 1:\n",
    "        g[str(i)].append(str(i-1))\n",
    "        i -= 1\n",
    "    g['1'].append(str(taille))\n",
    "    return g\n",
    "\n",
    "tps_cycle_karger2 = []\n",
    "N = [10,20,50,100,250,500,1000]\n",
    "\n",
    "for n in N:\n",
    "    tps_N = []\n",
    "    \n",
    "    for i in range(100):\n",
    "        # création de la matrice d'un graph complet de taille n\n",
    "        G = grapheCycle(n)\n",
    "        \n",
    "        # Calcul du temps d'execution\n",
    "        debut = time.time()\n",
    "        g = karger(G)\n",
    "        fin = time.time()\n",
    "        \n",
    "        # stockage des temps d'exécution pour ce n\n",
    "        tps_N.append(fin-debut)\n",
    "    \n",
    "    # stockage de la moyenne des temps d'exécution pour chaque n\n",
    "    tps_cycle_karger2.append(np.mean(tps_N))"
   ]
  },
  {
   "cell_type": "markdown",
   "id": "00c45d86-4c93-4392-a6a0-07f7ee370011",
   "metadata": {},
   "source": [
    "### Graphes Bipartie Complets"
   ]
  },
  {
   "cell_type": "code",
   "execution_count": 30,
   "id": "de9e599a-d673-4982-925d-4d7a93b14c08",
   "metadata": {},
   "outputs": [],
   "source": [
    "#Graphe bipartie complet\n",
    "def grapheBipartieComplet(taille): #taille doit être multiple de 2 sinon on prend taille+1 ; E1 = {sommet1, ..., sommetTaille/2}\n",
    "                            #et E1 = {sommet_Taille/2+1, ..., sommetTaille}\n",
    "    g = dict()\n",
    "    \n",
    "    if(taille %2 != 0):\n",
    "        taille += 1\n",
    "    listeSommetE1 = []\n",
    "    i = 1\n",
    "    while i <= taille/2:\n",
    "        listeSommetE1.append(str(i))\n",
    "        i += 1\n",
    "    listeSommetE2 = []\n",
    "    while i <= taille:\n",
    "        listeSommetE2.append(str(i))\n",
    "        i += 1\n",
    "    \n",
    "    i = 1\n",
    "    while i <= taille/2:\n",
    "        g[str(i)] = listeSommetE2\n",
    "        i += 1\n",
    "    while i <= taille:\n",
    "        g[str(i)] = listeSommetE1\n",
    "        i += 1\n",
    "    return g\n",
    "\n",
    "tps_biparti_karger2 = []\n",
    "N = [10,20,50,100,250,500,1000]\n",
    "\n",
    "for n in N:\n",
    "    tps_N = []\n",
    "    \n",
    "    for i in range(100):\n",
    "        # création de la matrice d'un graph complet de taille n\n",
    "        G = grapheBipartieComplet(n)\n",
    "        \n",
    "        # Calcul du temps d'execution\n",
    "        debut = time.time()\n",
    "        g = karger(G)\n",
    "        fin = time.time()\n",
    "        \n",
    "        # stockage des temps d'exécution pour ce n\n",
    "        tps_N.append(fin-debut)\n",
    "    \n",
    "    # stockage de la moyenne des temps d'exécution pour chaque n\n",
    "    tps_biparti_karger2.append(np.mean(tps_N))"
   ]
  },
  {
   "cell_type": "markdown",
   "id": "bf344288-e95b-44f5-81f1-7e5dde47d2db",
   "metadata": {},
   "source": [
    "### Graphes Aléatoires"
   ]
  },
  {
   "cell_type": "code",
   "execution_count": null,
   "id": "d0ddd7a9-1805-4ac2-ab2d-3e628e36bf01",
   "metadata": {},
   "outputs": [],
   "source": [
    "#graphe aleatoire \n",
    "def grapheAleatoire(taille):\n",
    "    g = dict()\n",
    "    i = 1\n",
    "    while i < taille:\n",
    "        if str(i) not in list(g.keys()):\n",
    "            g[str(i)] = []\n",
    "        j = i + 1\n",
    "        while j <= taille:\n",
    "            if randint(0,1) == 1:\n",
    "                g[str(i)].append(str(j))\n",
    "                if str(j) not in list(g.keys()):\n",
    "                    g[str(j)] = []\n",
    "                g[str(j)].append(str(i))\n",
    "                    \n",
    "                \n",
    "            j += 1\n",
    "        i += 1\n",
    "        \n",
    "    return g\n",
    "\n",
    "tps_alea_karger2 = []\n",
    "N = [10,20,50,100,250,500,1000]\n",
    "\n",
    "for n in N:\n",
    "    tps_N = []\n",
    "    \n",
    "    for i in range(100):\n",
    "        # création de la matrice d'un graph complet de taille n\n",
    "        G = grapheAleatoire(n)\n",
    "        \n",
    "        # Calcul du temps d'execution\n",
    "        debut = time.time()\n",
    "        g = karger(G)\n",
    "        fin = time.time()\n",
    "        \n",
    "        # stockage des temps d'exécution pour ce n\n",
    "        tps_N.append(fin-debut)\n",
    "    \n",
    "    # stockage de la moyenne des temps d'exécution pour chaque n\n",
    "    tps_alea_karger2.append(np.mean(tps_N))"
   ]
  },
  {
   "cell_type": "code",
   "execution_count": null,
   "id": "b46e03e6-8952-4601-b79e-ce2b9195528a",
   "metadata": {},
   "outputs": [],
   "source": [
    "# Visualisation plus pratique\n",
    "plt.figure()\n",
    "plt.title('Log complexité de Karger')\n",
    "plt.xlabel('nombre de sommets du graph (log)')\n",
    "plt.ylabel('Tps d\\'exécution en seconde (log)')\n",
    "plt.plot(np.log(N), np.log(tps_complet_karger2), label='Graph complet')\n",
    "plt.plot(np.log(N), np.log(tps_cycle_karger2), label='Graph à cycle')\n",
    "plt.plot(np.log(N), np.log(tps_biparti_karger2), label='Graph à cycle')\n",
    "plt.plot(np.log(N), np.log(tps_alea_karger2), label='Graph à proba')\n",
    "plt.legend()\n",
    "plt.show()"
   ]
  }
 ],
 "metadata": {
  "kernelspec": {
   "display_name": "Python 3",
   "language": "python",
   "name": "python3"
  },
  "language_info": {
   "codemirror_mode": {
    "name": "ipython",
    "version": 3
   },
   "file_extension": ".py",
   "mimetype": "text/x-python",
   "name": "python",
   "nbconvert_exporter": "python",
   "pygments_lexer": "ipython3",
   "version": "3.8.10"
  }
 },
 "nbformat": 4,
 "nbformat_minor": 5
}
